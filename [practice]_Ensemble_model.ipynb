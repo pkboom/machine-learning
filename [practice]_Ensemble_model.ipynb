{
  "cells": [
    {
      "cell_type": "markdown",
      "metadata": {
        "id": "view-in-github",
        "colab_type": "text"
      },
      "source": [
        "<a href=\"https://colab.research.google.com/github/pkboom/metacode-machine-learning/blob/master/%5Bpractice%5D_Ensemble_model.ipynb\" target=\"_parent\"><img src=\"https://colab.research.google.com/assets/colab-badge.svg\" alt=\"Open In Colab\"/></a>"
      ]
    },
    {
      "cell_type": "code",
      "execution_count": null,
      "metadata": {
        "id": "ODvrix9fy0iW"
      },
      "outputs": [],
      "source": [
        "# Basic setting\n",
        "import pickle\n",
        "import numpy as np\n",
        "\n",
        "import pandas as pd\n",
        "import matplotlib.pyplot as plt\n",
        "%matplotlib inline"
      ]
    },
    {
      "cell_type": "code",
      "source": [
        "from google.colab import drive\n",
        "drive.mount('/content/drive')"
      ],
      "metadata": {
        "colab": {
          "base_uri": "https://localhost:8080/"
        },
        "id": "wOqPxU0wzAg8",
        "outputId": "ddbe7ec8-f02b-42d2-cf83-3be401585fe9"
      },
      "execution_count": null,
      "outputs": [
        {
          "output_type": "stream",
          "name": "stdout",
          "text": [
            "Mounted at /content/drive\n"
          ]
        }
      ]
    },
    {
      "cell_type": "code",
      "source": [
        "%cd /content/drive/MyDrive/curinc/ensemble"
      ],
      "metadata": {
        "colab": {
          "base_uri": "https://localhost:8080/"
        },
        "id": "iwn3TifWzUFw",
        "outputId": "11b57c53-78a8-4b94-aa49-4ab4c2924a13"
      },
      "execution_count": null,
      "outputs": [
        {
          "output_type": "stream",
          "name": "stdout",
          "text": [
            "/content/drive/MyDrive/curinc/ensemble\n"
          ]
        }
      ]
    },
    {
      "cell_type": "markdown",
      "metadata": {
        "id": "oqqaOatxy0iX"
      },
      "source": [
        "# Ensemble 모델"
      ]
    },
    {
      "cell_type": "markdown",
      "metadata": {
        "id": "XEdNjEEGy0iY"
      },
      "source": [
        "## [P.1] Bagging 모델\n",
        "\n",
        "먼저, 결정 트리 기반의 bagging 알고리즘을 구현할 것임"
      ]
    },
    {
      "cell_type": "code",
      "execution_count": null,
      "metadata": {
        "id": "UfYdIcEpy0iY"
      },
      "outputs": [],
      "source": [
        "from sklearn.datasets import make_moons\n",
        "from sklearn.model_selection import train_test_split"
      ]
    },
    {
      "cell_type": "code",
      "execution_count": null,
      "metadata": {
        "id": "b-OZj8_zy0iZ"
      },
      "outputs": [],
      "source": [
        "X, y = make_moons(n_samples=1000, noise=0.50)\n",
        "# get train, test dataset\n",
        "X_train, X_test, y_train, y_test = train_test_split(X, y, test_size=0.2, random_state=42)"
      ]
    },
    {
      "cell_type": "markdown",
      "metadata": {
        "id": "qkKt4DEVy0iZ"
      },
      "source": [
        "결정 트리를 기반으로 하기 때문에 이전의 `DecisionTreeClassifier` 클래스를 [`BaggingClassifier`](https://scikit-learn.org/stable/modules/generated/sklearn.ensemble.BaggingClassifier.html)로 감싸서 모델을 구현함"
      ]
    },
    {
      "cell_type": "code",
      "execution_count": null,
      "metadata": {
        "id": "Ix1OjCKVy0iZ"
      },
      "outputs": [],
      "source": [
        "from sklearn.tree import DecisionTreeClassifier  # 결정 트리 분류 모델\n",
        "from sklearn.ensemble import BaggingClassifier  # 결정 트리 분류 모델"
      ]
    },
    {
      "cell_type": "markdown",
      "source": [
        "n_estimators: number of estimators"
      ],
      "metadata": {
        "id": "9yGC7tSe2Fql"
      }
    },
    {
      "cell_type": "code",
      "execution_count": null,
      "metadata": {
        "id": "c0UJK9sry0iZ"
      },
      "outputs": [],
      "source": [
        "bag_clf = BaggingClassifier(base_estimator=DecisionTreeClassifier(), n_estimators=100, max_samples=0.5, random_state=42)\n",
        "\n",
        "# Train 데이터 학습\n",
        "bag_clf.fit(X_train, y_train)\n",
        "\n",
        "y_pred = bag_clf.predict(X_test)"
      ]
    },
    {
      "cell_type": "code",
      "execution_count": null,
      "metadata": {
        "colab": {
          "base_uri": "https://localhost:8080/"
        },
        "id": "7xqyc_kty0iZ",
        "outputId": "85aef889-a5b9-46f5-e7fd-08ac51ebf533"
      },
      "outputs": [
        {
          "output_type": "execute_result",
          "data": {
            "text/plain": [
              "0.815"
            ]
          },
          "metadata": {},
          "execution_count": 8
        }
      ],
      "source": [
        "from sklearn.metrics import accuracy_score\n",
        "\n",
        "accuracy_score(y_pred, y_test)"
      ]
    },
    {
      "cell_type": "markdown",
      "metadata": {
        "id": "SWH39bIty0iZ"
      },
      "source": [
        "위의 성능을 단순한 결정 트리 모델 성능과 비교해보기"
      ]
    },
    {
      "cell_type": "code",
      "execution_count": null,
      "metadata": {
        "colab": {
          "base_uri": "https://localhost:8080/"
        },
        "id": "90UaXQg6y0ia",
        "outputId": "50d95dfd-b0a3-4c6e-e114-4580066d9d0c",
        "collapsed": true
      },
      "outputs": [
        {
          "output_type": "stream",
          "name": "stdout",
          "text": [
            "[[ 4.43178581e-01 -3.29368596e-01]\n",
            " [ 1.78448137e+00  3.82778450e-01]\n",
            " [ 1.00213652e+00  7.95105929e-01]\n",
            " [ 2.15993739e+00 -2.09047715e-01]\n",
            " [ 1.21282531e+00  1.12851146e+00]\n",
            " [-2.67561800e-01  1.17490686e+00]\n",
            " [ 1.84111464e+00 -1.01253575e+00]\n",
            " [ 1.11775863e+00 -3.44596809e-01]\n",
            " [-1.06913970e+00  1.41649291e+00]\n",
            " [ 1.94681995e+00  5.11692803e-01]\n",
            " [ 8.32933897e-01  1.16969072e-01]\n",
            " [-6.21599697e-01  8.33817368e-01]\n",
            " [-8.52566865e-01  8.00226609e-01]\n",
            " [-5.50083603e-01 -5.97354515e-02]\n",
            " [ 1.04340096e+00 -4.52461202e-01]\n",
            " [ 1.95274971e+00 -1.43797201e-01]\n",
            " [ 1.28111078e+00 -1.17879627e+00]\n",
            " [ 3.71817573e-01  2.89877832e-01]\n",
            " [-1.22544684e+00  2.30042205e-01]\n",
            " [-3.60461186e-02 -1.28346025e-01]\n",
            " [ 1.25624060e+00 -1.95592809e-01]\n",
            " [ 2.14029436e+00 -1.11206248e+00]\n",
            " [ 7.81396928e-02  5.63271381e-01]\n",
            " [ 4.62652565e-02  7.46643051e-01]\n",
            " [ 1.75399987e+00  7.26341845e-03]\n",
            " [-2.46209900e-01  8.59251288e-01]\n",
            " [ 7.04471994e-01 -3.97836978e-02]\n",
            " [-3.43865117e-01  8.21763844e-01]\n",
            " [ 6.78527157e-01 -7.08308662e-01]\n",
            " [-1.82077735e-01  1.02574594e+00]\n",
            " [ 1.72398964e+00  1.89037768e-02]\n",
            " [ 2.00699709e+00 -1.49981396e-01]\n",
            " [ 1.49451999e+00 -2.68400314e+00]\n",
            " [ 2.38469605e+00 -5.64653370e-01]\n",
            " [ 2.54058497e-01 -2.38590521e-01]\n",
            " [ 2.12308672e+00  7.25332682e-02]\n",
            " [-1.08083840e+00  1.71294996e+00]\n",
            " [ 1.85974781e+00 -1.78211999e-01]\n",
            " [ 1.65557084e+00  9.43195440e-02]\n",
            " [-4.23438372e-01 -4.04658968e-01]\n",
            " [ 4.39905108e-01 -3.69655733e-01]\n",
            " [ 5.80168530e-02  8.40905279e-01]\n",
            " [ 1.12387187e+00 -9.68256984e-01]\n",
            " [ 2.07185727e+00 -6.41826537e-01]\n",
            " [ 2.45076933e+00  4.24053807e-01]\n",
            " [ 9.90467997e-01  5.02294544e-01]\n",
            " [ 1.65992633e-01  2.12901624e+00]\n",
            " [ 1.70663880e+00  1.21623074e+00]\n",
            " [ 4.70407617e-01 -1.80452100e-01]\n",
            " [-1.35750386e+00  4.52310770e-01]\n",
            " [-2.27797504e-01  7.04181319e-01]\n",
            " [-7.72428339e-01  3.14408767e-01]\n",
            " [ 6.19498289e-01 -9.53260707e-01]\n",
            " [-2.46109979e-01  2.66762365e-01]\n",
            " [-5.91686250e-01 -8.18122376e-02]\n",
            " [ 4.70672371e-01 -4.02626847e-01]\n",
            " [-4.92759003e-01  7.74589775e-01]\n",
            " [ 1.08274192e-01  6.60426092e-01]\n",
            " [ 1.31355365e+00 -1.67818777e-01]\n",
            " [-8.94636868e-01  1.83902321e-01]\n",
            " [-6.26110928e-01 -4.04702634e-01]\n",
            " [ 5.33823170e-01 -4.17659676e-01]\n",
            " [ 1.18544453e-01  2.35555553e-01]\n",
            " [ 1.17009730e+00 -7.34128107e-01]\n",
            " [ 1.05250022e+00 -5.84770598e-01]\n",
            " [ 1.23115833e+00 -1.67243419e-03]\n",
            " [ 3.73152513e-01  7.63113284e-01]\n",
            " [-4.16894251e-01 -9.98439215e-01]\n",
            " [-1.52852828e-01  1.13373920e+00]\n",
            " [ 6.57356547e-01  1.41921149e+00]\n",
            " [ 8.80744860e-01 -1.15862384e+00]\n",
            " [ 9.34886305e-01  7.24777628e-01]\n",
            " [ 1.13628399e+00  1.11454348e+00]\n",
            " [-7.43644377e-01  1.24555783e-01]\n",
            " [ 1.99309362e-02  2.99274900e-01]\n",
            " [ 5.36901442e-01  7.31680052e-01]\n",
            " [-2.24522244e-01  1.68863283e+00]\n",
            " [-2.62696493e-01 -7.07479256e-01]\n",
            " [ 2.90073377e+00 -8.70156586e-01]\n",
            " [-1.51591079e+00  1.01482182e-01]\n",
            " [ 1.97294426e+00  5.72186056e-01]\n",
            " [ 6.97593835e-01 -5.27648798e-01]\n",
            " [ 2.25668741e+00  6.72157810e-01]\n",
            " [ 5.49260850e-01  1.06086566e+00]\n",
            " [ 2.08654848e+00 -9.05922568e-01]\n",
            " [ 1.75254140e+00  5.49173601e-01]\n",
            " [-2.74432605e-01  1.39585746e+00]\n",
            " [-2.83289359e-01  1.22341701e+00]\n",
            " [ 2.17207141e+00 -6.66849071e-01]\n",
            " [ 2.51775810e+00 -7.30173226e-01]\n",
            " [ 6.38764647e-01  3.89462964e-01]\n",
            " [ 3.77779340e-01 -3.06760360e-01]\n",
            " [ 1.69186165e+00  2.24255344e-01]\n",
            " [-3.26905103e-01  3.96023948e-01]\n",
            " [ 2.14522640e+00  2.09217211e-01]\n",
            " [ 3.63605763e-01  2.55784422e-01]\n",
            " [ 6.28577727e-01  7.62852721e-01]\n",
            " [-1.85302247e-01  3.02148766e-01]\n",
            " [ 2.16079370e+00 -2.50644434e-01]\n",
            " [ 1.99386815e+00  4.89740145e-01]\n",
            " [ 3.99817597e-01  6.77852455e-01]\n",
            " [ 1.61011822e+00  1.72162202e-01]\n",
            " [ 2.59602497e-01  4.72903805e-01]\n",
            " [ 1.82796768e+00 -1.86557618e+00]\n",
            " [-4.47763553e-01  6.21663123e-01]\n",
            " [ 2.13795448e-01  1.62837379e+00]\n",
            " [ 1.46079049e+00  8.36266494e-02]\n",
            " [ 1.27666239e-01 -3.83159794e-01]\n",
            " [-8.67113898e-01  6.87662815e-01]\n",
            " [ 1.01080364e+00  4.04142747e-01]\n",
            " [-4.87356171e-01  9.28834277e-01]\n",
            " [ 2.04417156e+00 -6.79676482e-02]\n",
            " [-9.64068121e-01  1.86845186e-01]\n",
            " [-4.05869414e-01 -2.32013829e-01]\n",
            " [ 3.84140328e-01  1.05469044e+00]\n",
            " [ 4.05385972e-01  1.06444235e-01]\n",
            " [ 1.20923911e+00  2.72074826e-01]\n",
            " [-1.36064890e+00 -4.31596547e-02]\n",
            " [-4.86375990e-01  1.10587431e+00]\n",
            " [ 1.62636131e+00 -7.78007092e-02]\n",
            " [ 1.13291374e+00 -4.95993530e-01]\n",
            " [ 1.50147513e-01 -7.57836575e-01]\n",
            " [ 1.73353021e+00 -1.03216284e+00]\n",
            " [ 1.88860619e+00 -3.29781093e-01]\n",
            " [-1.25403314e-01  4.98144469e-01]\n",
            " [ 5.08793723e-01  1.45845028e+00]\n",
            " [-1.76450620e+00 -1.96900201e-01]\n",
            " [ 1.75610729e+00 -3.53211484e-02]\n",
            " [ 1.24197782e+00  4.34971939e-01]\n",
            " [-8.89376430e-01 -1.18960134e-01]\n",
            " [ 4.83696062e-01  4.16618252e-01]\n",
            " [ 3.42844436e-01 -3.33098760e-01]\n",
            " [ 2.37319810e+00  3.41496022e-01]\n",
            " [ 1.79069712e+00 -7.68835624e-01]\n",
            " [ 5.39905659e-01  2.04136366e-01]\n",
            " [ 1.21721721e+00 -3.63532570e-01]\n",
            " [-1.54441251e+00  1.78723430e-02]\n",
            " [ 1.81513699e+00  2.05585139e-01]\n",
            " [ 1.37880736e+00  3.35115766e-01]\n",
            " [ 2.94452019e+00 -3.22810225e-01]\n",
            " [ 1.12336448e+00  2.67869305e-01]\n",
            " [ 9.59208042e-01 -7.88717761e-02]\n",
            " [-1.42098640e+00  8.35268513e-01]\n",
            " [ 1.92433295e-01  9.87238651e-01]\n",
            " [-2.81507546e-01  7.90051885e-01]\n",
            " [-5.54035307e-01  1.22153336e+00]\n",
            " [-3.40139142e-01  7.42460711e-01]\n",
            " [ 1.16320527e+00  4.97954395e-01]\n",
            " [ 7.86783716e-01 -4.01807808e-01]\n",
            " [-5.28422561e-01  7.26667924e-01]\n",
            " [-1.05103530e-01  6.53276215e-01]\n",
            " [ 4.54764944e-01 -3.55775219e-01]\n",
            " [ 9.81953085e-01 -4.71751138e-01]\n",
            " [-9.38489024e-02  1.76362357e+00]\n",
            " [ 4.69688139e-01 -3.90051042e-01]\n",
            " [ 1.41728049e+00 -3.92330666e-01]\n",
            " [ 2.10936713e+00 -1.09558066e+00]\n",
            " [ 1.26290142e+00 -8.50314164e-01]\n",
            " [ 9.38518696e-01  5.37929239e-01]\n",
            " [-1.29075564e+00  1.87718312e-01]\n",
            " [ 1.66770286e-01 -7.42692386e-02]\n",
            " [-7.92858253e-01  2.49524776e-01]\n",
            " [ 1.45666588e+00  4.66445205e-03]\n",
            " [-5.25044306e-01  8.20452370e-01]\n",
            " [ 3.84491135e-01  7.92935115e-01]\n",
            " [-7.95428722e-01  3.15404430e-02]\n",
            " [ 1.42400311e-01 -1.92795383e-01]\n",
            " [ 4.03385559e-01  1.06161306e+00]\n",
            " [-2.71689869e-01  1.34362753e+00]\n",
            " [ 2.23505616e+00  1.05884382e-02]\n",
            " [ 1.28180094e+00 -4.33139122e-01]\n",
            " [ 1.59141382e+00 -2.53502823e-01]\n",
            " [-8.29618418e-01  1.17449366e+00]\n",
            " [ 7.34275926e-01 -7.66751969e-01]\n",
            " [ 3.62083831e-01 -3.69637794e-01]\n",
            " [ 5.92221437e-02  1.31456264e+00]\n",
            " [-1.14297223e+00  5.10741768e-01]\n",
            " [ 5.84264576e-01  1.30151651e+00]\n",
            " [ 1.99567991e+00 -8.60172752e-01]\n",
            " [ 2.32406338e+00 -8.35851922e-01]\n",
            " [ 1.43346082e+00  1.78320243e-01]\n",
            " [ 1.70206562e+00 -5.77691054e-01]\n",
            " [-1.18357591e+00  5.43402869e-01]\n",
            " [ 8.77542716e-01  1.23866602e+00]\n",
            " [ 1.19219442e+00  4.93112056e-01]\n",
            " [ 2.02699750e+00  3.85238070e-01]\n",
            " [ 2.06794230e+00  2.54065157e-01]\n",
            " [ 1.90946184e+00  2.51226975e-01]\n",
            " [-1.35955712e+00  6.75028261e-01]\n",
            " [-6.04091347e-01  6.17417431e-01]\n",
            " [ 1.25670561e+00  2.91977387e-02]\n",
            " [ 2.65073954e+00  6.86141457e-01]\n",
            " [-2.57505608e-01 -6.81491988e-01]\n",
            " [ 1.17628507e+00 -1.54528540e+00]\n",
            " [ 1.47786900e+00 -3.23679968e-01]\n",
            " [ 4.27306351e-01  6.10764357e-01]\n",
            " [-7.96735797e-01  8.41062384e-01]\n",
            " [ 2.50909448e-01 -3.25019211e-01]\n",
            " [-2.79633433e-01 -1.18681938e-01]\n",
            " [ 2.10173806e+00 -3.28806393e-01]]\n"
          ]
        },
        {
          "output_type": "execute_result",
          "data": {
            "text/plain": [
              "0.79"
            ]
          },
          "metadata": {},
          "execution_count": 9
        }
      ],
      "source": [
        "# 결정 트리 모델로만 성능을 얻어보기!\n",
        "print(X_test)\n",
        "\n",
        "tree_clf = DecisionTreeClassifier(random_state=42).fit(X_train, y_train)\n",
        "\n",
        "y_pred = tree_clf.predict(X_test)\n",
        "\n",
        "accuracy_score(y_pred, y_test)\n"
      ]
    },
    {
      "cell_type": "markdown",
      "metadata": {
        "id": "ITF9Jd4ay0ia"
      },
      "source": [
        "학습된 두 모델의 시각화를 해보면 다음과 같음\n"
      ]
    },
    {
      "cell_type": "code",
      "execution_count": null,
      "metadata": {
        "id": "F5ClHMvSy0ia"
      },
      "outputs": [],
      "source": [
        "def plot_dataset(X, y, show=True):\n",
        "    plt.plot(X[:, 0][y==0], X[:, 1][y==0], \"s\")\n",
        "    plt.plot(X[:, 0][y==1], X[:, 1][y==1], \"^\")\n",
        "    # plt.plot(X[:, 0][y==2], X[:, 1][y==2], \"o\")\n",
        "    \n",
        "    if show:\n",
        "        plt.show()"
      ]
    },
    {
      "cell_type": "code",
      "execution_count": null,
      "metadata": {
        "id": "Hf6AI08Py0ia"
      },
      "outputs": [],
      "source": [
        "def plot_decision_boundary(clf, axes=None):\n",
        "    if axes is None:\n",
        "        x0 = np.linspace(-3, 4, 100)\n",
        "        x1 = np.linspace(-3, 4, 100)\n",
        "    else:\n",
        "        x0 = np.linspace(axes[0][0], axes[0][1], 100)\n",
        "        x1 = np.linspace(axes[1][0], axes[1][1], 100)\n",
        "        \n",
        "    \n",
        "    x0, x1 = np.meshgrid(x0, x1)\n",
        "    X_new = np.c_[x0.ravel(), x1.ravel()]\n",
        "    \n",
        "    y_pred = clf.predict(X_new).reshape(x0.shape)\n",
        "    \n",
        "    plt.contourf(x0, x1, y_pred, alpha=0.25)\n",
        "    plt.show()"
      ]
    },
    {
      "cell_type": "code",
      "execution_count": null,
      "metadata": {
        "colab": {
          "base_uri": "https://localhost:8080/",
          "height": 269
        },
        "id": "MQtEDRIPy0ia",
        "outputId": "defafe0e-bd98-493d-92a4-d4c9d1b0a43f"
      },
      "outputs": [
        {
          "output_type": "display_data",
          "data": {
            "text/plain": [
              "<Figure size 432x288 with 1 Axes>"
            ],
            "image/png": "[encoded data removed]"
          },
          "metadata": {
            "needs_background": "light"
          }
        }
      ],
      "source": [
        "plt.figure(figsize=(6, 4))\n",
        "\n",
        "plot_dataset(X, y, False)\n",
        "plot_decision_boundary(tree_clf)\n",
        "\n",
        "plt.show()"
      ]
    },
    {
      "cell_type": "code",
      "execution_count": null,
      "metadata": {
        "colab": {
          "base_uri": "https://localhost:8080/",
          "height": 269
        },
        "id": "p5Od0-4Sy0ia",
        "outputId": "ba6d3731-a8d7-4a1c-9afc-229272fbbe76"
      },
      "outputs": [
        {
          "output_type": "display_data",
          "data": {
            "text/plain": [
              "<Figure size 432x288 with 1 Axes>"
            ],
            "image/png": "[encoded data removed]"
          },
          "metadata": {
            "needs_background": "light"
          }
        }
      ],
      "source": [
        "plt.figure(figsize=(6, 4))\n",
        "\n",
        "plot_dataset(X, y, False)\n",
        "plot_decision_boundary(bag_clf)\n",
        "\n",
        "plt.show()"
      ]
    },
    {
      "cell_type": "markdown",
      "metadata": {
        "id": "2Gudh_6ty0ia"
      },
      "source": [
        "확실히 결정 경계가 더 단순해진 것을 통해, 여러 트리의 앙상블로 분산 오류가 줄어든 것을 볼 수 있음"
      ]
    },
    {
      "cell_type": "markdown",
      "metadata": {
        "id": "I3sFclqvy0ib"
      },
      "source": [
        "## [P.2] Random Forest 모델\n",
        "\n",
        "트리 모델 간의 상관 관계를 줄여 앙상블 효과를 극대화하는 Random Forest 모델을 구현하고 성능을 평가해볼 것임     \n",
        "사이킷런에서 제공하는 [`RandomForestClassifier`](https://scikit-learn.org/stable/modules/generated/sklearn.ensemble.RandomForestClassifier.html) 클래스를 사용하면 됨"
      ]
    },
    {
      "cell_type": "code",
      "execution_count": null,
      "metadata": {
        "id": "J0wbhKgZy0ib",
        "colab": {
          "base_uri": "https://localhost:8080/"
        },
        "outputId": "a4a978da-4da2-4fa8-ed7e-94806cf00463"
      },
      "outputs": [
        {
          "output_type": "execute_result",
          "data": {
            "text/plain": [
              "0.825"
            ]
          },
          "metadata": {},
          "execution_count": 14
        }
      ],
      "source": [
        "from sklearn.ensemble import RandomForestClassifier\n",
        "\n",
        "rnd_clf = RandomForestClassifier(n_estimators=100, max_leaf_nodes=16)\n",
        "\n",
        "rnd_clf.fit(X_train, y_train)\n",
        "\n",
        "y_pred = rnd_clf.predict(X_test)\n",
        "\n",
        "accuracy_score(y_pred, y_test)"
      ]
    },
    {
      "cell_type": "code",
      "execution_count": null,
      "metadata": {
        "scrolled": true,
        "id": "mBD9W8o-y0ib",
        "colab": {
          "base_uri": "https://localhost:8080/",
          "height": 269
        },
        "outputId": "4cafd738-c948-4f4a-9ce7-3a15b18ed8ae"
      },
      "outputs": [
        {
          "output_type": "display_data",
          "data": {
            "text/plain": [
              "<Figure size 432x288 with 1 Axes>"
            ],
            "image/png": "[encoded data removed]"
          },
          "metadata": {
            "needs_background": "light"
          }
        }
      ],
      "source": [
        "plt.figure(figsize=(6, 4))\n",
        "\n",
        "plot_dataset(X, y, False)\n",
        "plot_decision_boundary(rnd_clf)\n",
        "\n",
        "plt.show()"
      ]
    },
    {
      "cell_type": "markdown",
      "metadata": {
        "id": "I60VQOnGy0ib"
      },
      "source": [
        "Bagging tree의 장점은 각 피처들의 중요도를 계산해, 모델에 대한 설명가능성을 키워줄 수 있음    "
      ]
    },
    {
      "cell_type": "code",
      "execution_count": null,
      "metadata": {
        "id": "9tp95bA4y0ib",
        "colab": {
          "base_uri": "https://localhost:8080/"
        },
        "outputId": "8e84598e-e203-47eb-ccf6-6db9cf6a240d"
      },
      "outputs": [
        {
          "output_type": "execute_result",
          "data": {
            "text/plain": [
              "array([0.48147643, 0.51852357])"
            ]
          },
          "metadata": {},
          "execution_count": 16
        }
      ],
      "source": [
        "rnd_clf.feature_importances_"
      ]
    },
    {
      "cell_type": "code",
      "execution_count": null,
      "metadata": {
        "id": "3WrljiqGy0ib",
        "colab": {
          "base_uri": "https://localhost:8080/"
        },
        "outputId": "45e2f6bf-062f-4e1a-a004-c55381f6e286"
      },
      "outputs": [
        {
          "output_type": "stream",
          "name": "stdout",
          "text": [
            "dict_keys(['data', 'target', 'frame', 'target_names', 'DESCR', 'feature_names', 'filename', 'data_module'])\n",
            "The importance score of feature sepal length (cm) is about 0.092\n",
            "The importance score of feature sepal width (cm) is about 0.021\n",
            "The importance score of feature petal length (cm) is about 0.495\n",
            "The importance score of feature petal width (cm) is about 0.392\n"
          ]
        }
      ],
      "source": [
        "from sklearn.datasets import load_iris\n",
        "\n",
        "iris = load_iris()\n",
        "\n",
        "print(dict.keys(iris))\n",
        "X_iris, y_iris = iris['data'], iris['target']\n",
        "\n",
        "rnd_clf = RandomForestClassifier(n_estimators=100, max_leaf_nodes=16)\n",
        "\n",
        "rnd_clf.fit(X_iris, y_iris)\n",
        "\n",
        "for feature, score in zip(iris['feature_names'], rnd_clf.feature_importances_):\n",
        "  print('The importance score of feature %s is about %.3f' % (feature, score))"
      ]
    },
    {
      "cell_type": "markdown",
      "metadata": {
        "id": "5Caw33h0y0ib"
      },
      "source": [
        "## [P.3] AdaBoost 모델\n",
        "\n",
        "이번에는 Boosting 알고리즘인 `AdaBoost`를 활용해 모델을 구현해볼 것임     \n",
        "사이킷런에서 제공하는 [`AdaBoostClassifier`](https://scikit-learn.org/stable/modules/generated/sklearn.ensemble.AdaBoostClassifier.html) 클래스를 사용하면 쉽게 구현 가능함     "
      ]
    },
    {
      "cell_type": "code",
      "execution_count": null,
      "metadata": {
        "id": "sjv98mony0ib",
        "colab": {
          "base_uri": "https://localhost:8080/"
        },
        "outputId": "17b2e37f-cc51-4204-c036-3721d573014f"
      },
      "outputs": [
        {
          "output_type": "execute_result",
          "data": {
            "text/plain": [
              "0.815"
            ]
          },
          "metadata": {},
          "execution_count": 18
        }
      ],
      "source": [
        "from sklearn.ensemble import AdaBoostClassifier\n",
        "\n",
        "# stump -> split one time\n",
        "ada_clf = AdaBoostClassifier(DecisionTreeClassifier(max_depth=1), n_estimators=100, learning_rate=0.3)\n",
        "\n",
        "ada_clf.fit(X_train, y_train)\n",
        "\n",
        "y_pred = ada_clf.predict(X_test)\n",
        "\n",
        "accuracy_score(y_pred, y_test)"
      ]
    },
    {
      "cell_type": "code",
      "execution_count": null,
      "metadata": {
        "id": "sqVryaN3y0ib",
        "colab": {
          "base_uri": "https://localhost:8080/",
          "height": 269
        },
        "outputId": "14eb190a-9bc9-445c-d7df-1b4edac0af56"
      },
      "outputs": [
        {
          "output_type": "display_data",
          "data": {
            "text/plain": [
              "<Figure size 432x288 with 1 Axes>"
            ],
            "image/png": "[encoded data removed]"
          },
          "metadata": {
            "needs_background": "light"
          }
        }
      ],
      "source": [
        "plt.figure(figsize=(6, 4))\n",
        "\n",
        "plot_dataset(X, y, False)\n",
        "plot_decision_boundary(ada_clf)\n",
        "\n",
        "plt.show()"
      ]
    },
    {
      "cell_type": "markdown",
      "metadata": {
        "collapsed": true,
        "id": "NpIjy0vUy0ic"
      },
      "source": [
        "### Q1. Bagging과 Boosting의 차이가 무엇일까요?"
      ]
    },
    {
      "cell_type": "markdown",
      "metadata": {
        "id": "P2PXTPc5y0ic"
      },
      "source": [
        "### Q2. AdaBoost에서 `DecisionTreeClassifier`의 `max_depth` argument를 1로 설정해준 이유는?"
      ]
    },
    {
      "cell_type": "markdown",
      "metadata": {
        "id": "g0ibB41my0ic"
      },
      "source": [
        "### Q3. AdaBoost 모델이 만약 학습 데이터셋에 underfit된 상황이라면, 어떤 하이퍼파라미터를 사용할 수 있을까요?\n",
        "\n"
      ]
    }
  ],
  "metadata": {
    "kernelspec": {
      "display_name": "Python 3",
      "language": "python",
      "name": "python3"
    },
    "language_info": {
      "codemirror_mode": {
        "name": "ipython",
        "version": 3
      },
      "file_extension": ".py",
      "mimetype": "text/x-python",
      "name": "python",
      "nbconvert_exporter": "python",
      "pygments_lexer": "ipython3",
      "version": "3.7.9"
    },
    "nav_menu": {
      "height": "252px",
      "width": "333px"
    },
    "toc": {
      "navigate_menu": true,
      "number_sections": true,
      "sideBar": true,
      "threshold": 6,
      "toc_cell": false,
      "toc_section_display": "block",
      "toc_window_display": false
    },
    "colab": {
      "provenance": [],
      "toc_visible": true,
      "include_colab_link": true
    }
  },
  "nbformat": 4,
  "nbformat_minor": 0
}