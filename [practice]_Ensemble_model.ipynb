{
  "cells": [
    {
      "cell_type": "markdown",
      "metadata": {
        "id": "view-in-github",
        "colab_type": "text"
      },
      "source": [
        "<a href=\"https://colab.research.google.com/github/pkboom/metacode-machine-learning/blob/master/%5Bpractice%5D_Ensemble_model.ipynb\" target=\"_parent\"><img src=\"https://colab.research.google.com/assets/colab-badge.svg\" alt=\"Open In Colab\"/></a>"
      ]
    },
    {
      "cell_type": "code",
      "execution_count": 1,
      "metadata": {
        "id": "ODvrix9fy0iW"
      },
      "outputs": [],
      "source": [
        "# Basic setting\n",
        "import pickle\n",
        "import numpy as np\n",
        "\n",
        "import pandas as pd\n",
        "import matplotlib.pyplot as plt\n",
        "%matplotlib inline"
      ]
    },
    {
      "cell_type": "code",
      "source": [
        "from google.colab import drive\n",
        "drive.mount('/content/drive')"
      ],
      "metadata": {
        "colab": {
          "base_uri": "https://localhost:8080/"
        },
        "id": "wOqPxU0wzAg8",
        "outputId": "561c0b6d-1021-4c87-c19d-5c3874d773ce"
      },
      "execution_count": 2,
      "outputs": [
        {
          "output_type": "stream",
          "name": "stdout",
          "text": [
            "Mounted at /content/drive\n"
          ]
        }
      ]
    },
    {
      "cell_type": "code",
      "source": [
        "%cd /content/drive/MyDrive/curinc/ensemble"
      ],
      "metadata": {
        "colab": {
          "base_uri": "https://localhost:8080/"
        },
        "id": "iwn3TifWzUFw",
        "outputId": "ad465046-1312-4266-f162-5b98ddb1f7b6"
      },
      "execution_count": 3,
      "outputs": [
        {
          "output_type": "stream",
          "name": "stdout",
          "text": [
            "/content/drive/MyDrive/curinc/ensemble\n"
          ]
        }
      ]
    },
    {
      "cell_type": "markdown",
      "metadata": {
        "id": "oqqaOatxy0iX"
      },
      "source": [
        "# Ensemble 모델"
      ]
    },
    {
      "cell_type": "markdown",
      "metadata": {
        "id": "XEdNjEEGy0iY"
      },
      "source": [
        "## [P.1] Bagging 모델\n",
        "\n",
        "먼저, 결정 트리 기반의 bagging 알고리즘을 구현할 것임"
      ]
    },
    {
      "cell_type": "code",
      "execution_count": 4,
      "metadata": {
        "id": "UfYdIcEpy0iY"
      },
      "outputs": [],
      "source": [
        "from sklearn.datasets import make_moons\n",
        "from sklearn.model_selection import train_test_split"
      ]
    },
    {
      "cell_type": "code",
      "execution_count": 5,
      "metadata": {
        "id": "b-OZj8_zy0iZ"
      },
      "outputs": [],
      "source": [
        "X, y = make_moons(n_samples=1000, noise=0.50)\n",
        "# get train, test dataset\n",
        "X_train, X_test, y_train, y_test = train_test_split(X, y, test_size=0.2, random_state=42)"
      ]
    },
    {
      "cell_type": "markdown",
      "metadata": {
        "id": "qkKt4DEVy0iZ"
      },
      "source": [
        "결정 트리를 기반으로 하기 때문에 이전의 `DecisionTreeClassifier` 클래스를 [`BaggingClassifier`](https://scikit-learn.org/stable/modules/generated/sklearn.ensemble.BaggingClassifier.html)로 감싸서 모델을 구현함"
      ]
    },
    {
      "cell_type": "code",
      "execution_count": 6,
      "metadata": {
        "id": "Ix1OjCKVy0iZ"
      },
      "outputs": [],
      "source": [
        "from sklearn.tree import DecisionTreeClassifier  # 결정 트리 분류 모델\n",
        "from sklearn.ensemble import BaggingClassifier  # 결정 트리 분류 모델"
      ]
    },
    {
      "cell_type": "markdown",
      "source": [
        "n_estimators: number of estimators"
      ],
      "metadata": {
        "id": "9yGC7tSe2Fql"
      }
    },
    {
      "cell_type": "code",
      "execution_count": 7,
      "metadata": {
        "id": "c0UJK9sry0iZ"
      },
      "outputs": [],
      "source": [
        "bag_clf = BaggingClassifier(base_estimator=DecisionTreeClassifier(), n_estimators=100, max_samples=0.5, random_state=42)\n",
        "\n",
        "# Train 데이터 학습\n",
        "bag_clf.fit(X_train, y_train)\n",
        "\n",
        "y_pred = bag_clf.predict(X_test)"
      ]
    },
    {
      "cell_type": "code",
      "execution_count": 8,
      "metadata": {
        "colab": {
          "base_uri": "https://localhost:8080/"
        },
        "id": "7xqyc_kty0iZ",
        "outputId": "bcb5215f-807c-4ada-dae3-df5ae9048796"
      },
      "outputs": [
        {
          "output_type": "execute_result",
          "data": {
            "text/plain": [
              "0.84"
            ]
          },
          "metadata": {},
          "execution_count": 8
        }
      ],
      "source": [
        "from sklearn.metrics import accuracy_score\n",
        "\n",
        "accuracy_score(y_pred, y_test)"
      ]
    },
    {
      "cell_type": "markdown",
      "metadata": {
        "id": "SWH39bIty0iZ"
      },
      "source": [
        "위의 성능을 단순한 결정 트리 모델 성능과 비교해보기"
      ]
    },
    {
      "cell_type": "code",
      "execution_count": 9,
      "metadata": {
        "colab": {
          "base_uri": "https://localhost:8080/"
        },
        "id": "90UaXQg6y0ia",
        "outputId": "5aba2c63-508e-4573-a406-3a83a423ee4a",
        "collapsed": true
      },
      "outputs": [
        {
          "output_type": "stream",
          "name": "stdout",
          "text": [
            "[[-9.43102996e-01  2.26231647e-01]\n",
            " [ 9.89844182e-01 -3.94231858e-01]\n",
            " [ 8.06706180e-01  1.02672351e+00]\n",
            " [-1.22992170e+00  8.53475117e-01]\n",
            " [-7.87346026e-01  1.00791715e+00]\n",
            " [ 1.18833099e+00  5.52824776e-01]\n",
            " [ 1.91299746e-01  1.67305652e-02]\n",
            " [-3.27941883e-02  1.27152850e+00]\n",
            " [ 2.15170332e+00 -1.37512936e-01]\n",
            " [-1.86241944e-01  1.67269652e+00]\n",
            " [ 6.04238725e-01  4.86662001e-01]\n",
            " [ 3.40545150e-01  1.64194501e+00]\n",
            " [ 2.53978042e+00 -2.77787846e-01]\n",
            " [-1.77536406e-01  3.07032686e-01]\n",
            " [-5.93987187e-01  1.21783046e+00]\n",
            " [-1.81850350e-02  5.13104484e-01]\n",
            " [ 5.43047909e-01  2.29318474e-01]\n",
            " [ 9.20938141e-01 -8.31148776e-01]\n",
            " [ 4.38567900e-01  7.79134630e-01]\n",
            " [ 8.28049688e-01 -5.76923281e-01]\n",
            " [ 1.21727330e+00  1.92907812e-01]\n",
            " [ 6.12199561e-01 -1.05205362e+00]\n",
            " [ 1.59760752e+00  1.61869230e-01]\n",
            " [ 1.55760896e+00  3.45282888e-01]\n",
            " [ 3.68853807e-01  8.88111273e-01]\n",
            " [ 6.21600231e-01  6.75886594e-01]\n",
            " [ 9.87541459e-01 -1.43490908e+00]\n",
            " [-7.89729347e-01  1.82824150e+00]\n",
            " [ 1.39351442e+00 -4.68493809e-01]\n",
            " [-5.35973601e-01  1.66082731e-01]\n",
            " [ 6.39966312e-01  1.48967883e+00]\n",
            " [-1.04443380e+00 -1.52446587e-01]\n",
            " [ 1.39532840e+00 -7.80759791e-01]\n",
            " [ 2.00501395e+00  3.32408944e-01]\n",
            " [-1.06132208e+00  9.28740795e-01]\n",
            " [ 1.50855931e+00 -8.58744907e-01]\n",
            " [-1.70281796e-01  9.66548783e-01]\n",
            " [ 6.26682288e-01  1.08893141e-01]\n",
            " [ 1.12551973e+00 -1.14675412e+00]\n",
            " [ 1.83703315e+00 -1.42435233e+00]\n",
            " [ 6.29387652e-01  4.69338438e-01]\n",
            " [-3.29099674e-02  8.34393288e-01]\n",
            " [ 2.72645651e-01 -5.11032805e-01]\n",
            " [-1.41499272e+00 -2.66753858e-01]\n",
            " [-1.05761071e+00 -5.41864996e-01]\n",
            " [ 7.69183977e-01  1.10075355e+00]\n",
            " [-1.69770647e-01  4.94063417e-01]\n",
            " [ 8.49556996e-01 -5.42829865e-01]\n",
            " [ 1.41406850e+00 -2.81384208e-01]\n",
            " [ 5.06634997e-01 -1.31615523e+00]\n",
            " [ 2.34339574e+00 -3.21199435e-01]\n",
            " [ 9.10758631e-01  9.58225100e-01]\n",
            " [ 2.27367506e+00  1.61081588e-01]\n",
            " [ 3.12075407e-01 -3.66839551e-02]\n",
            " [-5.16610144e-01  8.56480373e-01]\n",
            " [ 1.59849781e+00 -2.81408730e-01]\n",
            " [ 6.29828589e-01 -5.11678754e-02]\n",
            " [-1.51051659e+00 -3.39193197e-01]\n",
            " [ 8.68923313e-01 -6.91123593e-01]\n",
            " [-1.07590600e-01  1.31907208e+00]\n",
            " [-1.46396483e-01  5.37883144e-01]\n",
            " [ 1.78120506e+00 -3.82925095e-01]\n",
            " [ 2.94838131e-01  2.87108578e-01]\n",
            " [ 9.98779894e-01 -7.37523956e-01]\n",
            " [-8.29536432e-01  1.19858444e+00]\n",
            " [ 9.13447928e-03  1.27874962e+00]\n",
            " [-5.45326508e-01  8.37370252e-01]\n",
            " [ 1.40298578e+00  4.95227033e-01]\n",
            " [ 4.94786968e-01  7.05416460e-01]\n",
            " [ 7.97570501e-01 -6.87075767e-01]\n",
            " [ 5.86638726e-01 -9.60857416e-01]\n",
            " [ 7.92610627e-01 -5.54746019e-01]\n",
            " [-1.87437521e-01  8.21306075e-01]\n",
            " [ 1.89773934e+00 -5.35827345e-01]\n",
            " [ 2.32300931e-01  1.22050344e+00]\n",
            " [-1.14137448e+00  1.23933166e+00]\n",
            " [ 1.28594642e+00  8.36833049e-02]\n",
            " [ 1.09321117e+00 -3.63910164e-01]\n",
            " [ 2.24881754e+00 -4.32694229e-02]\n",
            " [-7.53693492e-01 -3.80141209e-01]\n",
            " [ 4.50829043e-01  3.00472335e-01]\n",
            " [-2.56416002e-01  5.73064109e-01]\n",
            " [ 1.76767800e+00 -6.82286689e-01]\n",
            " [ 1.07266189e+00  8.29015380e-01]\n",
            " [-1.29133891e-01  5.85303816e-01]\n",
            " [ 7.09841630e-01  1.60104440e-01]\n",
            " [ 7.78697528e-01  5.28198135e-02]\n",
            " [ 1.03457628e+00 -2.67513752e-01]\n",
            " [ 7.46139491e-01  1.38949987e-01]\n",
            " [ 4.16985822e-01 -7.99310118e-02]\n",
            " [ 6.22894961e-05  1.09449768e+00]\n",
            " [ 1.51917737e+00 -8.64415657e-01]\n",
            " [-1.91003891e-02  1.18059134e+00]\n",
            " [ 9.90567368e-01  8.96337768e-01]\n",
            " [ 1.48213566e+00 -2.11858086e-01]\n",
            " [ 3.14558798e-01 -4.87660289e-01]\n",
            " [ 1.80291906e-01  7.77222341e-01]\n",
            " [ 1.11100423e+00  1.01788291e-01]\n",
            " [ 1.59500649e+00  8.55613899e-02]\n",
            " [ 1.81172031e-01  2.39625636e-01]\n",
            " [-3.96725232e-01  7.57850151e-01]\n",
            " [-1.42800546e+00  9.29160315e-01]\n",
            " [-1.03650829e+00  7.17580876e-01]\n",
            " [ 1.94570867e+00 -5.21082479e-01]\n",
            " [ 9.18545971e-01  9.37357688e-01]\n",
            " [ 1.04264393e+00 -8.91156888e-01]\n",
            " [ 1.66869646e+00  5.82777723e-01]\n",
            " [ 8.66710160e-01  1.26865664e-01]\n",
            " [-4.49157760e-01  1.59355933e-01]\n",
            " [ 7.69228957e-01  1.38869224e+00]\n",
            " [ 8.59152349e-01 -1.44382213e-01]\n",
            " [ 8.96022545e-01 -6.49529808e-01]\n",
            " [ 6.23456097e-01 -7.13051784e-01]\n",
            " [-1.59569544e+00 -1.32122049e-01]\n",
            " [ 1.23316224e+00 -7.95826718e-01]\n",
            " [ 5.75270333e-02  2.83520316e-01]\n",
            " [ 1.02744310e+00  1.20921504e+00]\n",
            " [-6.05669346e-01  7.77536407e-01]\n",
            " [-6.89917336e-01  6.01149885e-01]\n",
            " [ 6.07052885e-01  1.00740654e+00]\n",
            " [ 2.63763147e-01  8.90201642e-01]\n",
            " [ 3.30505478e-01  2.25360896e-01]\n",
            " [ 8.18371110e-01  2.93033244e-01]\n",
            " [ 1.99969006e+00  1.61925437e-01]\n",
            " [ 2.17992831e+00  3.23568235e-01]\n",
            " [ 4.29714065e-01 -1.33527688e+00]\n",
            " [-7.84443881e-01 -5.61075060e-01]\n",
            " [ 3.74142610e-01  8.66054214e-01]\n",
            " [ 1.86339202e+00  3.43231065e-01]\n",
            " [-6.28627346e-01  9.81098993e-01]\n",
            " [ 1.40478097e+00  6.50444053e-01]\n",
            " [ 1.77215216e+00  7.47828850e-01]\n",
            " [-3.06088413e-01  1.00755157e+00]\n",
            " [ 1.84002403e+00 -5.77229377e-01]\n",
            " [ 7.26958630e-01 -9.64782736e-01]\n",
            " [ 1.54036929e+00 -2.82378494e-01]\n",
            " [-2.15186493e-02  8.24375223e-01]\n",
            " [ 2.16552775e+00  1.02616356e+00]\n",
            " [ 1.74096426e-01  1.47038919e-01]\n",
            " [ 1.07535029e+00 -8.52089994e-01]\n",
            " [ 6.73182913e-01  4.22022551e-01]\n",
            " [ 3.88059410e-01 -2.15254336e-01]\n",
            " [ 5.93546675e-01  2.43592298e+00]\n",
            " [-1.16979501e+00  1.27498187e+00]\n",
            " [ 3.98564530e-01  7.37452596e-01]\n",
            " [ 4.66230338e-01  1.48268921e+00]\n",
            " [-1.17655515e+00 -7.24990384e-03]\n",
            " [ 1.04863346e+00 -5.19580723e-01]\n",
            " [ 1.22454813e+00 -3.82169394e-01]\n",
            " [ 1.01472424e-01  2.22209816e-01]\n",
            " [-2.65019810e-01 -7.89659146e-01]\n",
            " [-4.30279178e-01  1.36578941e+00]\n",
            " [ 1.42815612e+00 -3.08177730e-01]\n",
            " [ 3.74543588e-01  2.86458256e-01]\n",
            " [ 2.18990610e+00 -1.83552878e-01]\n",
            " [ 2.51340380e+00  8.42626261e-01]\n",
            " [ 1.91303872e+00  2.51013614e-01]\n",
            " [-1.16451909e+00 -3.38820906e-01]\n",
            " [ 1.97003346e+00  1.52835373e+00]\n",
            " [ 3.65161472e-01  8.43052920e-01]\n",
            " [-3.07719184e-01  2.01101311e-01]\n",
            " [ 1.67427425e+00 -1.29704134e+00]\n",
            " [ 2.23389150e+00 -3.31507367e-01]\n",
            " [ 1.36675083e+00 -2.47191721e-01]\n",
            " [-4.41434989e-01  1.77445342e-01]\n",
            " [-1.49711799e-01 -7.82500854e-02]\n",
            " [-3.33395643e-01  7.60730564e-01]\n",
            " [-1.00995257e+00  8.27161168e-01]\n",
            " [ 1.07258041e+00  6.35148665e-01]\n",
            " [-2.33734444e-01  9.42560581e-01]\n",
            " [ 2.53146049e-01  9.11299682e-01]\n",
            " [ 1.26862630e+00  2.59035748e-01]\n",
            " [ 2.95145894e-01  4.27884161e-01]\n",
            " [-5.76319349e-01  8.03710763e-01]\n",
            " [ 1.90600549e+00  9.75916773e-01]\n",
            " [-3.60751570e-01  9.39861674e-01]\n",
            " [ 1.55832149e+00 -2.15575024e-01]\n",
            " [ 8.55309691e-01 -2.16645681e-01]\n",
            " [ 1.83522176e+00  3.62805776e-01]\n",
            " [ 7.42370794e-01 -3.46017111e-01]\n",
            " [-7.72739972e-01  3.66990536e-01]\n",
            " [ 1.18404792e+00 -2.84934736e-01]\n",
            " [ 2.09079323e+00 -5.68431890e-01]\n",
            " [-6.55688855e-02  2.84935015e-01]\n",
            " [ 1.69724831e+00 -1.20207944e-01]\n",
            " [ 8.37249979e-01  2.67782132e-02]\n",
            " [-5.67181563e-01 -8.56977635e-01]\n",
            " [ 2.08685690e+00 -9.29496565e-01]\n",
            " [ 4.59957933e-02  4.93327521e-01]\n",
            " [ 1.11384795e+00 -8.58925394e-01]\n",
            " [ 5.03766353e-01 -3.55080217e-01]\n",
            " [ 1.08410930e-01  1.10502420e+00]\n",
            " [ 1.17931130e+00 -6.26027827e-02]\n",
            " [ 2.13628970e+00 -3.91411510e-01]\n",
            " [ 1.56451429e+00 -4.04944825e-01]\n",
            " [ 1.76922547e+00 -3.92268332e-01]\n",
            " [ 2.23091234e+00 -6.19016087e-01]\n",
            " [ 2.08325658e+00 -1.72144294e-01]\n",
            " [ 1.38292491e+00  3.56264841e-01]\n",
            " [ 5.92138433e-01 -6.14588976e-01]]\n"
          ]
        },
        {
          "output_type": "execute_result",
          "data": {
            "text/plain": [
              "0.8"
            ]
          },
          "metadata": {},
          "execution_count": 9
        }
      ],
      "source": [
        "# 결정 트리 모델로만 성능을 얻어보기!\n",
        "print(X_test)\n",
        "\n",
        "tree_clf = DecisionTreeClassifier(random_state=42).fit(X_train, y_train)\n",
        "\n",
        "y_pred = tree_clf.predict(X_test)\n",
        "\n",
        "accuracy_score(y_pred, y_test)\n"
      ]
    },
    {
      "cell_type": "markdown",
      "metadata": {
        "id": "ITF9Jd4ay0ia"
      },
      "source": [
        "학습된 두 모델의 시각화를 해보면 다음과 같음\n"
      ]
    },
    {
      "cell_type": "code",
      "execution_count": 10,
      "metadata": {
        "id": "F5ClHMvSy0ia"
      },
      "outputs": [],
      "source": [
        "def plot_dataset(X, y, show=True):\n",
        "    plt.plot(X[:, 0][y==0], X[:, 1][y==0], \"s\")\n",
        "    plt.plot(X[:, 0][y==1], X[:, 1][y==1], \"^\")\n",
        "    plt.plot(X[:, 0][y==2], X[:, 1][y==2], \"o\")\n",
        "    \n",
        "    if show:\n",
        "        plt.show()"
      ]
    },
    {
      "cell_type": "code",
      "execution_count": 11,
      "metadata": {
        "id": "Hf6AI08Py0ia"
      },
      "outputs": [],
      "source": [
        "def plot_decision_boundary(clf, axes=None):\n",
        "    if axes is None:\n",
        "        x0 = np.linspace(-3, 4, 100)\n",
        "        x1 = np.linspace(-3, 4, 100)\n",
        "    else:\n",
        "        x0 = np.linspace(axes[0][0], axes[0][1], 100)\n",
        "        x1 = np.linspace(axes[1][0], axes[1][1], 100)\n",
        "        \n",
        "    \n",
        "    x0, x1 = np.meshgrid(x0, x1)\n",
        "    X_new = np.c_[x0.ravel(), x1.ravel()]\n",
        "    \n",
        "    y_pred = clf.predict(X_new).reshape(x0.shape)\n",
        "    \n",
        "    plt.contourf(x0, x1, y_pred, alpha=0.25)\n",
        "    plt.show()"
      ]
    },
    {
      "cell_type": "code",
      "execution_count": 12,
      "metadata": {
        "colab": {
          "base_uri": "https://localhost:8080/",
          "height": 269
        },
        "id": "MQtEDRIPy0ia",
        "outputId": "8a840ca3-0133-4512-afe3-91085750fcc5"
      },
      "outputs": [
        {
          "output_type": "display_data",
          "data": {
            "text/plain": [
              "<Figure size 432x288 with 1 Axes>"
            ],
            "image/png": "[encoded data removed]"
          },
          "metadata": {
            "needs_background": "light"
          }
        }
      ],
      "source": [
        "plt.figure(figsize=(6, 4))\n",
        "\n",
        "plot_dataset(X, y, False)\n",
        "plot_decision_boundary(tree_clf)\n",
        "\n",
        "plt.show()"
      ]
    },
    {
      "cell_type": "code",
      "execution_count": 13,
      "metadata": {
        "colab": {
          "base_uri": "https://localhost:8080/",
          "height": 269
        },
        "id": "p5Od0-4Sy0ia",
        "outputId": "9a97160d-dc5f-4a0f-9c5f-e2922f8ec044"
      },
      "outputs": [
        {
          "output_type": "display_data",
          "data": {
            "text/plain": [
              "<Figure size 432x288 with 1 Axes>"
            ],
            "image/png": "[encoded data removed]"
          },
          "metadata": {
            "needs_background": "light"
          }
        }
      ],
      "source": [
        "plt.figure(figsize=(6, 4))\n",
        "\n",
        "plot_dataset(X, y, False)\n",
        "plot_decision_boundary(bag_clf)\n",
        "\n",
        "plt.show()"
      ]
    },
    {
      "cell_type": "markdown",
      "metadata": {
        "id": "2Gudh_6ty0ia"
      },
      "source": [
        "확실히 결정 경계가 더 단순해진 것을 통해, 여러 트리의 앙상블로 분산 오류가 줄어든 것을 볼 수 있음"
      ]
    },
    {
      "cell_type": "markdown",
      "metadata": {
        "id": "I3sFclqvy0ib"
      },
      "source": [
        "## [P.2] Random Forest 모델\n",
        "\n",
        "트리 모델 간의 상관 관계를 줄여 앙상블 효과를 극대화하는 Random Forest 모델을 구현하고 성능을 평가해볼 것임     \n",
        "사이킷런에서 제공하는 [`RandomForestClassifier`](https://scikit-learn.org/stable/modules/generated/sklearn.ensemble.RandomForestClassifier.html) 클래스를 사용하면 됨"
      ]
    },
    {
      "cell_type": "code",
      "execution_count": 22,
      "metadata": {
        "id": "J0wbhKgZy0ib",
        "colab": {
          "base_uri": "https://localhost:8080/"
        },
        "outputId": "8348bd8b-3e92-496e-cd53-06ce92fc0d7e"
      },
      "outputs": [
        {
          "output_type": "execute_result",
          "data": {
            "text/plain": [
              "0.86"
            ]
          },
          "metadata": {},
          "execution_count": 22
        }
      ],
      "source": [
        "from sklearn.ensemble import RandomForestClassifier\n",
        "\n",
        "rnd_clf = RandomForestClassifier(n_estimators=100, max_leaf_nodes=16)\n",
        "\n",
        "rnd_clf.fit(X_train, y_train)\n",
        "\n",
        "y_pred = rnd_clf.predict(X_test)\n",
        "\n",
        "accuracy_score(y_pred, y_test)"
      ]
    },
    {
      "cell_type": "code",
      "execution_count": 23,
      "metadata": {
        "scrolled": true,
        "id": "mBD9W8o-y0ib",
        "colab": {
          "base_uri": "https://localhost:8080/",
          "height": 269
        },
        "outputId": "50c63745-4130-4c8c-faa6-508081ef1520"
      },
      "outputs": [
        {
          "output_type": "display_data",
          "data": {
            "text/plain": [
              "<Figure size 432x288 with 1 Axes>"
            ],
            "image/png": "[encoded data removed]"
          },
          "metadata": {
            "needs_background": "light"
          }
        }
      ],
      "source": [
        "plt.figure(figsize=(6, 4))\n",
        "\n",
        "plot_dataset(X, y, False)\n",
        "plot_decision_boundary(rnd_clf)\n",
        "\n",
        "plt.show()"
      ]
    },
    {
      "cell_type": "markdown",
      "metadata": {
        "id": "I60VQOnGy0ib"
      },
      "source": [
        "Bagging tree의 장점은 각 피처들의 중요도를 계산해, 모델에 대한 설명가능성을 키워줄 수 있음    "
      ]
    },
    {
      "cell_type": "code",
      "execution_count": 25,
      "metadata": {
        "id": "9tp95bA4y0ib",
        "colab": {
          "base_uri": "https://localhost:8080/"
        },
        "outputId": "c586670a-6239-4ece-b924-7a6996d98799"
      },
      "outputs": [
        {
          "output_type": "execute_result",
          "data": {
            "text/plain": [
              "array([0.43100334, 0.56899666])"
            ]
          },
          "metadata": {},
          "execution_count": 25
        }
      ],
      "source": [
        "rnd_clf.feature_importances_"
      ]
    },
    {
      "cell_type": "code",
      "execution_count": null,
      "metadata": {
        "id": "3WrljiqGy0ib"
      },
      "outputs": [],
      "source": [
        "from sklearn.datasets import load_iris\n",
        "\n",
        "# iris 데이터셋 전체를 학습한 이후에, 각 피처에 대한 중요도를 뽑아주세요.\n",
        "# load_iris()['feature_names'] 활용\n",
        "####################\n",
        "\n",
        "\n",
        "\n",
        "####################"
      ]
    },
    {
      "cell_type": "markdown",
      "metadata": {
        "id": "5Caw33h0y0ib"
      },
      "source": [
        "## [P.3] AdaBoost 모델\n",
        "\n",
        "이번에는 Boosting 알고리즘인 `AdaBoost`를 활용해 모델을 구현해볼 것임     \n",
        "사이킷런에서 제공하는 [`AdaBoostClassifier`](https://scikit-learn.org/stable/modules/generated/sklearn.ensemble.AdaBoostClassifier.html) 클래스를 사용하면 쉽게 구현 가능함     "
      ]
    },
    {
      "cell_type": "code",
      "execution_count": null,
      "metadata": {
        "id": "sjv98mony0ib"
      },
      "outputs": [],
      "source": [
        "from ??? import ???\n",
        "\n",
        "ada_clf = ???\n",
        "\n",
        "# 이전과 똑같이 학습 및 평가해주세요.\n",
        "####################\n",
        "\n",
        "\n",
        "\n",
        "####################"
      ]
    },
    {
      "cell_type": "code",
      "execution_count": null,
      "metadata": {
        "id": "sqVryaN3y0ib"
      },
      "outputs": [],
      "source": [
        "plt.figure(figsize=(6, 4))\n",
        "\n",
        "plot_dataset(X, y, False)\n",
        "plot_decision_boundary(ada_clf)\n",
        "\n",
        "plt.show()"
      ]
    },
    {
      "cell_type": "markdown",
      "metadata": {
        "collapsed": true,
        "id": "NpIjy0vUy0ic"
      },
      "source": [
        "### Q1. Bagging과 Boosting의 차이가 무엇일까요?"
      ]
    },
    {
      "cell_type": "markdown",
      "metadata": {
        "id": "P2PXTPc5y0ic"
      },
      "source": [
        "### Q2. AdaBoost에서 `DecisionTreeClassifier`의 `max_depth` argument를 1로 설정해준 이유는?"
      ]
    },
    {
      "cell_type": "markdown",
      "metadata": {
        "id": "g0ibB41my0ic"
      },
      "source": [
        "### Q3. AdaBoost 모델이 만약 학습 데이터셋에 underfit된 상황이라면, 어떤 하이퍼파라미터를 사용할 수 있을까요?"
      ]
    }
  ],
  "metadata": {
    "kernelspec": {
      "display_name": "Python 3",
      "language": "python",
      "name": "python3"
    },
    "language_info": {
      "codemirror_mode": {
        "name": "ipython",
        "version": 3
      },
      "file_extension": ".py",
      "mimetype": "text/x-python",
      "name": "python",
      "nbconvert_exporter": "python",
      "pygments_lexer": "ipython3",
      "version": "3.7.9"
    },
    "nav_menu": {
      "height": "252px",
      "width": "333px"
    },
    "toc": {
      "navigate_menu": true,
      "number_sections": true,
      "sideBar": true,
      "threshold": 6,
      "toc_cell": false,
      "toc_section_display": "block",
      "toc_window_display": false
    },
    "colab": {
      "provenance": [],
      "include_colab_link": true
    }
  },
  "nbformat": 4,
  "nbformat_minor": 0
}