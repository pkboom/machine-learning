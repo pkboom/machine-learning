{
  "cells": [
    {
      "cell_type": "markdown",
      "metadata": {
        "id": "view-in-github",
        "colab_type": "text"
      },
      "source": [
        "<a href=\"https://colab.research.google.com/github/pkboom/metacode-machine-learning/blob/master/%5Bassignment%5D_Tree_GridSearchCV.ipynb\" target=\"_parent\"><img src=\"https://colab.research.google.com/assets/colab-badge.svg\" alt=\"Open In Colab\"/></a>"
      ]
    },
    {
      "cell_type": "code",
      "execution_count": null,
      "metadata": {
        "id": "YCOoLd3sMals"
      },
      "outputs": [],
      "source": [
        "# Basic setting\n",
        "import os\n",
        "import pickle\n",
        "import numpy as np\n",
        "\n",
        "import pandas as pd\n",
        "import matplotlib.pyplot as plt\n",
        "%matplotlib inline"
      ]
    },
    {
      "cell_type": "markdown",
      "metadata": {
        "id": "liIrMY-LMalv"
      },
      "source": [
        "# [과제] 최적의 Decision Tree 모델 찾기\n",
        "\n",
        "---\n",
        "\n",
        "## 본 과제의 목표는 다음과 같음\n",
        "\n",
        "1. Decision Tree 모델을 사이킷런 패키지를 이용해 정의할 수 있음\n",
        "2. `GridSearchCV` 클래스를 이용하여, 가장 높은 성능과 최적의 하이퍼파라미터를 찾을 수 있음"
      ]
    },
    {
      "cell_type": "markdown",
      "metadata": {
        "id": "pJNderBAMalw"
      },
      "source": [
        "## [P.1] GridSearchCV 클래스를 이용하여 최적의 모델 찾기\n",
        "\n",
        "이전 과제에서 사용했던 `GridSearchCV` 클래스를 활용해 해당 데이터에 가장 좋은 성능을 보여주는 모델 찾기"
      ]
    },
    {
      "cell_type": "code",
      "execution_count": null,
      "metadata": {
        "id": "GIXiFSy4Malx"
      },
      "outputs": [],
      "source": [
        "# don't change the option\n",
        "from sklearn.datasets import make_moons\n",
        "from sklearn.model_selection import train_test_split\n",
        "\n",
        "X, y = make_moons(n_samples=1000, noise=0.4, random_state=42)\n",
        "X_train, X_test, y_train, y_test = train_test_split(X, y)"
      ]
    },
    {
      "cell_type": "code",
      "execution_count": null,
      "metadata": {
        "id": "PIiSM7P_Malx"
      },
      "outputs": [],
      "source": [
        "def plot_dataset(X, y, show=True):\n",
        "    plt.plot(X[:, 0][y==0], X[:, 1][y==0], 's')\n",
        "    plt.plot(X[:, 0][y==1], X[:, 1][y==1], '^')\n",
        "    # plt.plot(X[:, 0][y==2], X[:, 1][y==2], 'o')\n",
        "\n",
        "    if show:\n",
        "      plt.show()"
      ]
    },
    {
      "cell_type": "code",
      "execution_count": null,
      "metadata": {
        "id": "LtLZE6t2Malx",
        "colab": {
          "base_uri": "https://localhost:8080/",
          "height": 265
        },
        "outputId": "b09a0d8f-4bb1-4fcc-cc52-8b4bf119e6dc"
      },
      "outputs": [
        {
          "output_type": "display_data",
          "data": {
            "text/plain": [
              "<Figure size 432x288 with 1 Axes>"
            ],
            "image/png": "[encoded data removed]"
          },
          "metadata": {
            "needs_background": "light"
          }
        }
      ],
      "source": [
        "plot_dataset(X, y)"
      ]
    },
    {
      "cell_type": "code",
      "execution_count": null,
      "metadata": {
        "id": "uz4PJe5TMaly",
        "colab": {
          "base_uri": "https://localhost:8080/"
        },
        "outputId": "9a24ce6f-95df-43dd-ddb7-d1162eebf54c"
      },
      "outputs": [
        {
          "output_type": "execute_result",
          "data": {
            "text/plain": [
              "GridSearchCV(estimator=DecisionTreeClassifier(random_state=42),\n",
              "             param_grid={'max_depth': [3, 5, 10, 15, 20, 100],\n",
              "                         'max_leaf_nodes': [10, 20, 30, 100],\n",
              "                         'min_samples_split': [10, 50, 100, 200]})"
            ]
          },
          "metadata": {},
          "execution_count": 5
        }
      ],
      "source": [
        "from sklearn.model_selection import GridSearchCV\n",
        "from sklearn.tree import DecisionTreeClassifier\n",
        "\n",
        "tree_clf = DecisionTreeClassifier(random_state=42)\n",
        "param_grid = {\n",
        "    'max_depth': [3, 5, 10, 15, 20, 100],\n",
        "    'max_leaf_nodes': [10, 20, 30, 100],\n",
        "    'min_samples_split': [10, 50, 100, 200]\n",
        "}\n",
        "\n",
        "grid_search_cv = GridSearchCV(tree_clf, param_grid)\n",
        "grid_search_cv.fit(X_train, y_train)"
      ]
    },
    {
      "cell_type": "code",
      "execution_count": null,
      "metadata": {
        "id": "751azCafMaly",
        "collapsed": true
      },
      "outputs": [],
      "source": [
        "# get detailed results of cross-validation\n",
        "grid_search_cv.cv_results_"
      ]
    },
    {
      "cell_type": "code",
      "execution_count": null,
      "metadata": {
        "id": "DzNi9h1SMaly",
        "colab": {
          "base_uri": "https://localhost:8080/"
        },
        "outputId": "51d4a1d2-d121-4e4f-99c8-259bbbba1a3d"
      },
      "outputs": [
        {
          "output_type": "execute_result",
          "data": {
            "text/plain": [
              "DecisionTreeClassifier(max_depth=3, max_leaf_nodes=10, min_samples_split=10,\n",
              "                       random_state=42)"
            ]
          },
          "metadata": {},
          "execution_count": 7
        }
      ],
      "source": [
        "# get the best estimator\n",
        "grid_search_cv.best_estimator_"
      ]
    },
    {
      "cell_type": "code",
      "execution_count": null,
      "metadata": {
        "id": "In9gUaOCMalz",
        "colab": {
          "base_uri": "https://localhost:8080/"
        },
        "outputId": "7f892e0d-cc50-48f1-851e-580acbb890a9"
      },
      "outputs": [
        {
          "output_type": "execute_result",
          "data": {
            "text/plain": [
              "0.88"
            ]
          },
          "metadata": {},
          "execution_count": 8
        }
      ],
      "source": [
        "from sklearn.metrics import accuracy_score\n",
        "\n",
        "y_pred = grid_search_cv.predict(X_test)\n",
        "accuracy_score(y_test, y_pred)"
      ]
    },
    {
      "cell_type": "code",
      "execution_count": null,
      "metadata": {
        "id": "_kuOblwAMalz"
      },
      "outputs": [],
      "source": [
        "def plot_decision_boundary(clf, axes=None):\n",
        "  if axes is None:\n",
        "    x0 = np.linspace(-2, 4, 100)\n",
        "    x1 = np.linspace(-2, 2.5, 100)\n",
        "  else:\n",
        "    x0 = np.linspace(axes[0][0], axes[0][1], 100)\n",
        "    x1 = np.linspace(axes[1][0], axes[1][1], 100)\n",
        "\n",
        "  x0, x1 = np. meshgrid(x0, x1)\n",
        "  X_new = np.c_[x0.ravel(), x1.ravel()]\n",
        "\n",
        "  y_pred = clf.predict(X_new).reshape(x0.shape)\n",
        "\n",
        "  plt.contourf(x0, x1, y_pred, alpha=0.25)\n",
        "  plt.show()"
      ]
    },
    {
      "cell_type": "code",
      "source": [
        "a = np.array([[0, 1, 2], [3, 4, 5]])\n",
        "# print(np.r_['0,1,-1', a, a])\n",
        "print(np.c_[a, a])\n",
        "print(np.c_[[1,2,3], [4,5,6]]) # [1 2 3 4 5 6]\n",
        "print(np.arange(10))\n",
        "print(np.c_[np.arange(10)])"
      ],
      "metadata": {
        "id": "l22J3RaN-OPn"
      },
      "execution_count": null,
      "outputs": []
    },
    {
      "cell_type": "code",
      "source": [
        "# print('-----', np.r_['0', [1,2,3], [4,5,6]]) # [1 2 3 4 5 6]\n",
        "# print('-----', np.r_['0,2,0', [1,2,3], [4,5,6]]) # (N, 1)\n",
        "# print('-----', np.r_['0,2', [1,2,3], [4,5,6]]) # z default = -1\n",
        "# print('-----', np.r_['0,2,-1', [1,2,3], [4,5,6]])\n",
        "# print('-----', np.r_['0,2,1', [1,2,3], [4,5,6]])\n",
        "# print('-----', np.r_['1', [1,2,3], [4,5,6]])\n",
        "# print('-----', np.r_['1,2', [1,2,3], [4,5,6]])\n",
        "# print('-----', np.r_['1,2,0', [1,2,3], [4,5,6]])\n",
        "# print('-----', np.r_['1,2,1', [1,2,3], [4,5,6]])\n",
        "print('-----', np.r_[[1,2,3], [4,5,6]])\n",
        "print('-----', np.r_['-1,2,0',[1,2,3], [4,5,6]])\n",
        "print('-----', np.r_['-1,2',[1,2,3], [4,5,6]])\n",
        "# print('-----', np.array([1,2,3,4,5,6]).shape)\n",
        "# print('-----', np.array([1,2,3,4,5,6]).reshape(6,1))\n",
        "# print('-----', np.array([[1,2,3], [1,2,3]]).shape)\n",
        "# print('-----', np.array([[1,2,3], [1,2,3]]).shape)"
      ],
      "metadata": {
        "id": "FRotrfw-I9G5"
      },
      "execution_count": null,
      "outputs": []
    },
    {
      "cell_type": "code",
      "execution_count": null,
      "metadata": {
        "id": "y4IxZ924Malz",
        "colab": {
          "base_uri": "https://localhost:8080/",
          "height": 269
        },
        "outputId": "c5577439-6f77-406d-b687-e925dc4f2ab9"
      },
      "outputs": [
        {
          "output_type": "display_data",
          "data": {
            "text/plain": [
              "<Figure size 432x288 with 1 Axes>"
            ],
            "image/png": "[encoded data removed]"
          },
          "metadata": {
            "needs_background": "light"
          }
        }
      ],
      "source": [
        "plt.figure(figsize=(6, 4))\n",
        "\n",
        "plot_dataset(X, y, False)\n",
        "plot_decision_boundary(grid_search_cv)\n",
        "\n",
        "plt.show()"
      ]
    },
    {
      "cell_type": "code",
      "source": [],
      "metadata": {
        "id": "yaWCf2Pw5LxH"
      },
      "execution_count": null,
      "outputs": []
    }
  ],
  "metadata": {
    "kernelspec": {
      "display_name": "Python 3",
      "language": "python",
      "name": "python3"
    },
    "language_info": {
      "codemirror_mode": {
        "name": "ipython",
        "version": 3
      },
      "file_extension": ".py",
      "mimetype": "text/x-python",
      "name": "python",
      "nbconvert_exporter": "python",
      "pygments_lexer": "ipython3",
      "version": "3.7.9"
    },
    "colab": {
      "provenance": [],
      "include_colab_link": true
    }
  },
  "nbformat": 4,
  "nbformat_minor": 0
}