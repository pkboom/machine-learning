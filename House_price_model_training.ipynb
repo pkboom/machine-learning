{
  "cells": [
    {
      "cell_type": "markdown",
      "metadata": {
        "id": "view-in-github",
        "colab_type": "text"
      },
      "source": [
        "<a href=\"https://colab.research.google.com/github/pkboom/metacode-machine-learning/blob/master/House_price_model_training.ipynb\" target=\"_parent\"><img src=\"https://colab.research.google.com/assets/colab-badge.svg\" alt=\"Open In Colab\"/></a>"
      ]
    },
    {
      "cell_type": "code",
      "execution_count": 11,
      "metadata": {
        "id": "1whyCBkmuTAp"
      },
      "outputs": [],
      "source": [
        "import os\n",
        "import pandas as pd\n",
        "import numpy as np"
      ]
    },
    {
      "cell_type": "code",
      "source": [
        "from google.colab import drive\n",
        "drive.mount('/content/drive')"
      ],
      "metadata": {
        "colab": {
          "base_uri": "https://localhost:8080/"
        },
        "id": "xow0Jt9ObQ3b",
        "outputId": "26ae6973-df4a-4816-9670-5b5fa8fe6862"
      },
      "execution_count": 12,
      "outputs": [
        {
          "output_type": "stream",
          "name": "stdout",
          "text": [
            "Drive already mounted at /content/drive; to attempt to forcibly remount, call drive.mount(\"/content/drive\", force_remount=True).\n"
          ]
        }
      ]
    },
    {
      "cell_type": "code",
      "source": [
        "%cd /content/drive/MyDrive/curinc/ensemble/"
      ],
      "metadata": {
        "colab": {
          "base_uri": "https://localhost:8080/"
        },
        "id": "iKuB_dK9bs5N",
        "outputId": "e04bd07a-8b79-467b-d14a-79c5eaa4755e"
      },
      "execution_count": 13,
      "outputs": [
        {
          "output_type": "stream",
          "name": "stdout",
          "text": [
            "/content/drive/MyDrive/curinc/ensemble\n"
          ]
        }
      ]
    },
    {
      "cell_type": "markdown",
      "metadata": {
        "id": "zTZG9UxjuTAr"
      },
      "source": [
        "# ML 모델 학습\n",
        "\n",
        "지금까지 배웠던 모델들을 활용해서 이전의 `EDA` 파일에서 만들었던 정제된 데이터셋으로 학습 및 평가를 진행하면 됩니다.     \n",
        "집값 예측 데이터셋은 회귀 문제이므로, 회귀 모델들을 사용하면 됩니다.     \n",
        "\n",
        "Ensemble 자료에서 배웠던 모델들은 각각 `Classifier`에서 `Regressor`로 이름을 바꾸면, 회귀 모델이 되는 점 참고해주세요."
      ]
    },
    {
      "cell_type": "code",
      "execution_count": 80,
      "metadata": {
        "id": "FtFAFzIYuTAs",
        "colab": {
          "base_uri": "https://localhost:8080/"
        },
        "outputId": "99f8a9f2-bff6-40c9-c53e-b1828776b580"
      },
      "outputs": [
        {
          "output_type": "stream",
          "name": "stdout",
          "text": [
            "X dataset size: (1457, 6)\n",
            "y dataset size: (1457,)\n"
          ]
        }
      ],
      "source": [
        "X = pd.read_csv('./data/preprocessed_X.csv')\n",
        "y = pd.read_csv('./data/preprocessed_y.csv')\n",
        "\n",
        "y_1d = y.values.reshape(-1)\n",
        "print(\"X dataset size:\", X.shape)\n",
        "print(\"y dataset size:\", y_1d.shape)"
      ]
    },
    {
      "cell_type": "code",
      "execution_count": 88,
      "metadata": {
        "id": "xvZlMEoQuTAs",
        "colab": {
          "base_uri": "https://localhost:8080/"
        },
        "outputId": "e6c7ed37-7878-46f3-f519-eabf8bd8ef3e"
      },
      "outputs": [
        {
          "output_type": "execute_result",
          "data": {
            "text/plain": [
              "((1165, 6), (1165,))"
            ]
          },
          "metadata": {},
          "execution_count": 88
        }
      ],
      "source": [
        "from sklearn.model_selection import train_test_split \n",
        "\n",
        "X_train, X_test, y_train, y_test = train_test_split(X, y_1d, test_size=0.2) \n",
        "X_train.shape, y_train.shape"
      ]
    },
    {
      "cell_type": "markdown",
      "metadata": {
        "id": "pfFh-oXZuTAs"
      },
      "source": [
        "원하는 모델 구현해서 평가 데이터셋에 대한 성능을 찍고 분석해보세요.    \n",
        "이 때, 회귀 모델에 맞는 평가 지표를 `sklearn.metrics`에서 찾아서 사용해보세요."
      ]
    },
    {
      "cell_type": "code",
      "execution_count": 89,
      "metadata": {
        "id": "VuK4jvDpuTAt"
      },
      "outputs": [],
      "source": [
        "from sklearn.linear_model import SGDRegressor\n",
        "import matplotlib.pyplot as plt\n"
      ]
    },
    {
      "cell_type": "code",
      "source": [
        "alpha = 0.001\n",
        "lr = 1e-7\n",
        "epochs = 1000\n",
        "\n",
        "model = SGDRegressor(penalty='l2',\n",
        "                      alpha=alpha,\n",
        "                      max_iter=epochs,\n",
        "                      tol=1e-3, \n",
        "                      learning_rate='invscaling',\n",
        "                      eta0=lr)\n",
        "\n",
        "model.fit(X_train, y_train)\n",
        "\n",
        "model.intercept_"
      ],
      "metadata": {
        "colab": {
          "base_uri": "https://localhost:8080/"
        },
        "id": "NbXkwU4UdR2u",
        "outputId": "7cf66bc4-07f3-4180-c415-b6c501b39757"
      },
      "execution_count": 90,
      "outputs": [
        {
          "output_type": "execute_result",
          "data": {
            "text/plain": [
              "array([3.02324554e-06])"
            ]
          },
          "metadata": {},
          "execution_count": 90
        }
      ]
    },
    {
      "cell_type": "code",
      "source": [
        "from sklearn.metrics import mean_squared_error\n",
        "\n",
        "y_pred = model.predict(X_test)\n",
        "loss = mean_squared_error(y_pred, y_test)\n",
        "print('Linear Regression model less: %.4f' % loss)\n"
      ],
      "metadata": {
        "colab": {
          "base_uri": "https://localhost:8080/"
        },
        "id": "JWGh_gtwg4Gs",
        "outputId": "8c692a11-36e7-4cb2-c08c-2aa6fd597c7c"
      },
      "execution_count": 91,
      "outputs": [
        {
          "output_type": "stream",
          "name": "stdout",
          "text": [
            "Linear Regression model less: 0.1053\n"
          ]
        }
      ]
    },
    {
      "cell_type": "code",
      "source": [
        "from sklearn.svm import SVR\n",
        "\n",
        "svr = SVR(kernel='rbf', gamma=5, C=5)\n",
        "\n",
        "svr.fit(X_train, y_train)"
      ],
      "metadata": {
        "colab": {
          "base_uri": "https://localhost:8080/"
        },
        "id": "DelLep3tmXEq",
        "outputId": "611a236d-a671-4372-a9d0-cc1ad00b7a2e"
      },
      "execution_count": 93,
      "outputs": [
        {
          "output_type": "execute_result",
          "data": {
            "text/plain": [
              "SVR(C=5, gamma=5)"
            ]
          },
          "metadata": {},
          "execution_count": 93
        }
      ]
    },
    {
      "cell_type": "code",
      "source": [
        "y_pred = svr.predict(X_test)\n",
        "loss = mean_squared_error(y_pred, y_test)\n",
        "print(loss)"
      ],
      "metadata": {
        "colab": {
          "base_uri": "https://localhost:8080/"
        },
        "id": "NV7tsFLzjo40",
        "outputId": "a06619d3-e133-43a8-9fb0-d7f254808b71"
      },
      "execution_count": 94,
      "outputs": [
        {
          "output_type": "stream",
          "name": "stdout",
          "text": [
            "0.11888955712224814\n"
          ]
        }
      ]
    },
    {
      "cell_type": "code",
      "source": [
        "from lightgbm import LGBMRegressor\n",
        "\n",
        "lightgbm = LGBMRegressor(objective='regression', \n",
        "                         num_leaves=4,\n",
        "                         learning_rate=0.01, \n",
        "                         n_estimators=5000,\n",
        "                         max_bin=200, \n",
        "                         bagging_fraction=0.75,\n",
        "                         bagging_freq=5, \n",
        "                         bagging_seed=7,\n",
        "                         feature_fraction=0.2,\n",
        "                         feature_fraction_seed=7,\n",
        "                         verbose=-1,\n",
        "                         #min_data_in_leaf=2,\n",
        "                         #min_sum_hessian_in_leaf=11\n",
        "                        )\n",
        "\n",
        "lightgbm.fit(X_train, y_train)"
      ],
      "metadata": {
        "colab": {
          "base_uri": "https://localhost:8080/"
        },
        "id": "gOzmKLJpmrMF",
        "outputId": "8817dfb7-8c10-4085-8311-3fd4fdbffb22"
      },
      "execution_count": 95,
      "outputs": [
        {
          "output_type": "execute_result",
          "data": {
            "text/plain": [
              "LGBMRegressor(bagging_fraction=0.75, bagging_freq=5, bagging_seed=7,\n",
              "              feature_fraction=0.2, feature_fraction_seed=7, learning_rate=0.01,\n",
              "              max_bin=200, n_estimators=5000, num_leaves=4,\n",
              "              objective='regression', verbose=-1)"
            ]
          },
          "metadata": {},
          "execution_count": 95
        }
      ]
    },
    {
      "cell_type": "code",
      "source": [
        "y_pred = lightgbm.predict(X_test)\n",
        "\n",
        "loss = mean_squared_error(y_pred, y_test)\n",
        "loss"
      ],
      "metadata": {
        "colab": {
          "base_uri": "https://localhost:8080/"
        },
        "id": "0eVtPjxlnG0L",
        "outputId": "20ca3c51-4803-4ec6-dd66-de03b7941a53"
      },
      "execution_count": 96,
      "outputs": [
        {
          "output_type": "execute_result",
          "data": {
            "text/plain": [
              "0.027304173445232442"
            ]
          },
          "metadata": {},
          "execution_count": 96
        }
      ]
    },
    {
      "cell_type": "code",
      "source": [],
      "metadata": {
        "id": "I5a7EEb8nQqJ"
      },
      "execution_count": null,
      "outputs": []
    },
    {
      "cell_type": "markdown",
      "source": [
        "Q1. 어떤 데이터 전처리 과정을 진행했는지 정리해주세요.\n",
        "\n",
        "손실 데이터셋 제거, 아웃라이어 제거, 필요없는 피처 제거하거나 새로운 변수 생성, 몇몇 변수들의 값 정규화 등의 전처리들을 적용함.\n",
        "또한 SalePrice 또한 로그 함수를 취해 값을 변화시킴.\n",
        "\n",
        "Q2. 데이터 전처리릍 통해 데이터의 샘플 개수와 피처 차원은 어떻게 바뀌었나요?\n",
        "\n",
        "처음 데이터셋의 크기는 (1460, 80)의 크기 였음(SalePrice 타겟 피처 고려 없이).\n",
        "전처리를 통해 데이터셋의 모양은 (1457, 220)으로 바뀜.\n",
        "학습에 방해가 될 샘플 3개를 제거하고, 범주형 데이터를 처리하기 위해 dummy 피처로 변화시키는 과정에서 220개의 피처 개수로 증가함.\n",
        "\n",
        "Q3. 어떤 모델을 사용해서 데이터를 학습했으며, 모델의 장점과 단점을 설명해주세요.\n",
        "\n",
        "Ensemble 모델들 중 최신 모델인 LightGBM과 XGBoost 모델을 사용했고 꽤 좋은 성능을 얻음.\n",
        "Boosting 알고리즘들로, 결정 트리 기반으로 구현되었음에도 꽤 좋은 성능들을 보여주는 알고리즘임. 또한, 학습 속도 개선과 ensemble의 효과를 높이고자 한 기술들이 추가된 모델들임."
      ],
      "metadata": {
        "id": "cVvyaNR6nt9L"
      }
    },
    {
      "cell_type": "code",
      "source": [],
      "metadata": {
        "id": "yrjnr0PAn0nM"
      },
      "execution_count": null,
      "outputs": []
    }
  ],
  "metadata": {
    "kernelspec": {
      "display_name": "Python 3",
      "language": "python",
      "name": "python3"
    },
    "language_info": {
      "codemirror_mode": {
        "name": "ipython",
        "version": 3
      },
      "file_extension": ".py",
      "mimetype": "text/x-python",
      "name": "python",
      "nbconvert_exporter": "python",
      "pygments_lexer": "ipython3",
      "version": "3.7.9"
    },
    "colab": {
      "provenance": [],
      "include_colab_link": true
    }
  },
  "nbformat": 4,
  "nbformat_minor": 0
}