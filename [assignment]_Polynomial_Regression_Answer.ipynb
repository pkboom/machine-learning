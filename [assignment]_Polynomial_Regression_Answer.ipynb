{
  "cells": [
    {
      "cell_type": "markdown",
      "metadata": {
        "id": "view-in-github",
        "colab_type": "text"
      },
      "source": [
        "<a href=\"https://colab.research.google.com/github/pkboom/metacode-machine-learning/blob/master/%5Bassignment%5D_Polynomial_Regression_Answer.ipynb\" target=\"_parent\"><img src=\"https://colab.research.google.com/assets/colab-badge.svg\" alt=\"Open In Colab\"/></a>"
      ]
    },
    {
      "cell_type": "code",
      "execution_count": null,
      "metadata": {
        "id": "RT1lGTiHWHq2"
      },
      "outputs": [],
      "source": [
        "# Basic setting\n",
        "import pickle\n",
        "import numpy as np\n",
        "import pandas as pd\n",
        "import matplotlib.pyplot as plt\n",
        "%matplotlib inline"
      ]
    },
    {
      "cell_type": "code",
      "source": [
        "from google.colab import drive\n",
        "drive.mount('/content/drive')"
      ],
      "metadata": {
        "colab": {
          "base_uri": "https://localhost:8080/"
        },
        "id": "smk8ItFxYG4D",
        "outputId": "a7f9d77e-e7bf-4b6c-f9fe-54bbb2ba29bf"
      },
      "execution_count": null,
      "outputs": [
        {
          "output_type": "stream",
          "name": "stdout",
          "text": [
            "Mounted at /content/drive\n"
          ]
        }
      ]
    },
    {
      "cell_type": "code",
      "source": [
        "cd /content/drive/MyDrive/curinc/regression"
      ],
      "metadata": {
        "colab": {
          "base_uri": "https://localhost:8080/"
        },
        "id": "pBzzclHEYNbK",
        "outputId": "0d84cf8d-ba28-4dfe-ba3d-bf4440dc89a9"
      },
      "execution_count": null,
      "outputs": [
        {
          "output_type": "stream",
          "name": "stdout",
          "text": [
            "/content/drive/MyDrive/curinc/regression\n"
          ]
        }
      ]
    },
    {
      "cell_type": "markdown",
      "metadata": {
        "id": "Qcf4Yp3fWHq3"
      },
      "source": [
        "# [과제] 주어진 데이터에 대해서 다항 회귀 모델 학습하기\n",
        "\n",
        "---\n",
        "\n",
        "## 본 과제의 목표는 다음과 같음\n",
        "\n",
        "1. 데이터를 불러오고, 학습과 평가 데이터로 나눌 수 있음\n",
        "2. `numpy`를 이용해, 간단한 다항 회귀 모델을 구현하고 경사 하강법을 통해 학습할 수 있음\n",
        "3. `sklearn` 라이브러리의 클래스를 활용해 다항 회귀 모델을 정의하고 학습할 수 있음"
      ]
    },
    {
      "cell_type": "code",
      "execution_count": null,
      "metadata": {
        "id": "ue0IGc0XWHq5"
      },
      "outputs": [],
      "source": [
        "# Making polynomial data\n",
        "n = 3 # degree of the polynomial\n",
        "\n",
        "roots = np.random.uniform(-1, 1, n)   # Generates random roots for a 5th degree polynomial\n",
        "polyCoefficients = np.poly(roots)   # Find coefficients of polynomial that has said roots\n",
        "\n",
        "X = np.arange(-100, 100)   # Randomly generated X values\n",
        "y = np.polyval(polyCoefficients, X)   # Corresponding Y values passed through polynomial\n",
        "\n",
        "delta = np.random.uniform(-300000, 300000, size=(200,))\n",
        "y += delta\n",
        "\n",
        "\n",
        "def normalize(X):\n",
        "    return (X - X.mean()) / X.std()\n",
        "\n",
        "X = normalize(X)\n",
        "y = normalize(y)\n",
        "\n",
        "with open('./data/polynomial_regression.pickle', 'wb') as f:\n",
        "    pickle.dump([X, y], f)"
      ]
    },
    {
      "cell_type": "code",
      "execution_count": null,
      "metadata": {
        "id": "IAqS6qtGWHq5"
      },
      "outputs": [],
      "source": [
        "# Load the dataset\n",
        "with open('./data/polynomial_regression.pickle', 'rb') as f:\n",
        "    X, y = pickle.load(f)"
      ]
    },
    {
      "cell_type": "code",
      "execution_count": null,
      "metadata": {
        "colab": {
          "base_uri": "https://localhost:8080/",
          "height": 265
        },
        "id": "aiQ56O3WWHq5",
        "outputId": "cef3a6f8-ebfa-4995-fdfd-192a335c3d40"
      },
      "outputs": [
        {
          "output_type": "display_data",
          "data": {
            "text/plain": [
              "<Figure size 432x288 with 1 Axes>"
            ],
            "image/png": "[encoded data removed]"
          },
          "metadata": {
            "needs_background": "light"
          }
        }
      ],
      "source": [
        "# Check the dataset distribution    \n",
        "plt.scatter(X, y)\n",
        "plt.show()"
      ]
    },
    {
      "cell_type": "markdown",
      "metadata": {
        "id": "dPUSwpgXWHq6"
      },
      "source": [
        "## [P.1] 학습 데이터와 평가 데이터로 나누기\n",
        "---\n",
        "\n",
        "- 이 때, 평가 데이터는 전체의 20%로 설정\n",
        "- 학습과 평가 데이터셋을 각각 시각화하여 보여주기"
      ]
    },
    {
      "cell_type": "code",
      "execution_count": null,
      "metadata": {
        "id": "a4f4uiHwWHq7"
      },
      "outputs": [],
      "source": [
        "# Use sklearn library\n",
        "from sklearn.model_selection import train_test_split\n",
        "\n",
        "X_train, X_test, y_train, y_test = train_test_split(X, y, test_size=0.2, random_state=42)"
      ]
    },
    {
      "cell_type": "code",
      "execution_count": null,
      "metadata": {
        "colab": {
          "base_uri": "https://localhost:8080/",
          "height": 265
        },
        "id": "ZvbRNa67WHq7",
        "outputId": "adde6dda-f881-46de-9e40-8e3f9991168d"
      },
      "outputs": [
        {
          "output_type": "display_data",
          "data": {
            "text/plain": [
              "<Figure size 432x288 with 1 Axes>"
            ],
            "image/png": "[encoded data removed]"
          },
          "metadata": {
            "needs_background": "light"
          }
        }
      ],
      "source": [
        "# Visualize train dataset  \n",
        "plt.scatter(X_train, y_train)\n",
        "plt.show()"
      ]
    },
    {
      "cell_type": "code",
      "execution_count": null,
      "metadata": {
        "colab": {
          "base_uri": "https://localhost:8080/",
          "height": 265
        },
        "id": "XsUdc73EWHq7",
        "outputId": "48e257a6-459f-48ec-97c8-d287c54cb6ed"
      },
      "outputs": [
        {
          "output_type": "display_data",
          "data": {
            "text/plain": [
              "<Figure size 432x288 with 1 Axes>"
            ],
            "image/png": "[encoded data removed]"
          },
          "metadata": {
            "needs_background": "light"
          }
        }
      ],
      "source": [
        "# Visualize train dataset  \n",
        "plt.scatter(X_test, y_test)\n",
        "plt.show()"
      ]
    },
    {
      "cell_type": "markdown",
      "metadata": {
        "id": "EUR2ArQfWHq7"
      },
      "source": [
        "## [P.2] `numpy` 라이브러리를 통해, 최적의 다항 회귀 모델 학습\n",
        "\n",
        "---\n",
        "\n",
        "- 데이터의 분포를 살펴보고, 가장 적합해 보이는 차수의 다항 회귀 모델을 정의\n",
        "- 각 파라미터의 최적값을 경사 하강법을 통해 찾기\n",
        "- 이 때의 학습 손실값과 평가 데이터에 대한 손실값을 계산"
      ]
    },
    {
      "cell_type": "markdown",
      "metadata": {
        "id": "gqi-xGP7WHq8"
      },
      "source": [
        "### 위 데이터에 가장 적합한 회귀 모델은 3차 함수 형태의 모델임\n",
        "\\begin{equation*}\n",
        "f(x) = w_1X^3 + w_2X^2 + w_3X + b\n",
        "\\end{equation*}\n",
        "\n",
        "- 파라미터는 총 4개 존재함"
      ]
    },
    {
      "cell_type": "code",
      "execution_count": null,
      "metadata": {
        "id": "CM2ZFYR-WHq8"
      },
      "outputs": [],
      "source": [
        "def gd_numpy(X, y, epochs, lr):\n",
        "    # Model weights and bias parameters\n",
        "    w1 = 1.0\n",
        "    w2 = 1.0\n",
        "    w3 = 1.0\n",
        "    b = 1.0\n",
        "\n",
        "    # Perform Gradient Descent\n",
        "    for i in range(epochs):\n",
        "\n",
        "    #################################################\n",
        "    ######## Hint: use +, -, *, /, **, np.mean() ########\n",
        "        loss = np.mean((y - (w1*X**3 + w2*X**2 + w3*X + b))**2)   # MSE loss\n",
        "\n",
        "        dw1 = -2 * np.mean((y - (w1*X**3 + w2*X**2 + w3*X + b)) * X**3)   # derivative w.r.t to w\n",
        "        dw2 = -2 * np.mean((y - (w1*X**3 + w2*X**2 + w3*X + b)) * X**2)   # derivative w.r.t to w\n",
        "        dw3 = -2 * np.mean((y - (w1*X**3 + w2*X**2 + w3*X + b)) * X)   # derivative w.r.t to w\n",
        "        db = -2 * np.mean(y - (w1*X**3 + w2*X**2 + w3*X + b))   # derivative w.r.t to b\n",
        "    #################################################\n",
        "\n",
        "        w1 = w1 - lr * dw1   # update w\n",
        "        w2 = w2 - lr * dw2   # update w\n",
        "        w3 = w3 - lr * dw3   # update w\n",
        "        b = b - lr * db   # update b\n",
        "\n",
        "    print('Trained model weights : %.4f, %.4f, %.4f' % (w1, w2, w3))\n",
        "    print('Trained model bias : %.4f' % b)\n",
        "    \n",
        "    return w1, w2, w3, b"
      ]
    },
    {
      "cell_type": "code",
      "execution_count": null,
      "metadata": {
        "scrolled": true,
        "colab": {
          "base_uri": "https://localhost:8080/"
        },
        "id": "kl-3-_yTWHq8",
        "outputId": "eba4165d-afae-4e9f-8e51-7052670af1d8"
      },
      "outputs": [
        {
          "output_type": "stream",
          "name": "stdout",
          "text": [
            "Trained model weights : 0.9916, 0.9940, 0.9959\n",
            "Trained model bias : 0.9959\n"
          ]
        }
      ],
      "source": [
        "# Training setting\n",
        "epochs = 1000\n",
        "learning_rate = 1e-6\n",
        "\n",
        "w1, w2, w3, b = gd_numpy(X_train, y_train, epochs, learning_rate)"
      ]
    },
    {
      "cell_type": "code",
      "execution_count": null,
      "metadata": {
        "colab": {
          "base_uri": "https://localhost:8080/",
          "height": 265
        },
        "id": "OQDOOGSKWHq9",
        "outputId": "89ebe98d-7c72-4bad-adc8-1efd6dcc3364"
      },
      "outputs": [
        {
          "output_type": "display_data",
          "data": {
            "text/plain": [
              "<Figure size 432x288 with 1 Axes>"
            ],
            "image/png": "[encoded data removed]"
          },
          "metadata": {
            "needs_background": "light"
          }
        }
      ],
      "source": [
        "# Visualize the trained linear regression model\n",
        "# scatter the original data\n",
        "plt.scatter(X_train, y_train)   \n",
        "\n",
        "# plot prediction results\n",
        "y_pred = w1*X_train**3 + w2*X_train**2 + w3*X_train + b\n",
        "\n",
        "plt.scatter(X_train, y_pred, color='red')\n",
        "plt.show()"
      ]
    },
    {
      "cell_type": "code",
      "execution_count": null,
      "metadata": {
        "colab": {
          "base_uri": "https://localhost:8080/"
        },
        "id": "96gBAZTKWHq9",
        "outputId": "4dbac1dc-123b-4dc7-d9cf-7fde05cb7ef1"
      },
      "outputs": [
        {
          "output_type": "stream",
          "name": "stdout",
          "text": [
            "Train Loss for LinearRegression model : 9.3868\n"
          ]
        }
      ],
      "source": [
        "# get train loss\n",
        "y_pred = w1*X_train**3 + w2*X_train**2 + w3*X_train + b\n",
        "\n",
        "train_loss = np.mean((y_train - y_pred)**2)\n",
        "print('Train Loss for LinearRegression model : %.4f' % train_loss)"
      ]
    },
    {
      "cell_type": "code",
      "execution_count": null,
      "metadata": {
        "colab": {
          "base_uri": "https://localhost:8080/",
          "height": 265
        },
        "id": "-19KPXa6WHq9",
        "outputId": "6d63ac89-655e-4f31-9d33-81a4785a2a2e"
      },
      "outputs": [
        {
          "output_type": "display_data",
          "data": {
            "text/plain": [
              "<Figure size 432x288 with 1 Axes>"
            ],
            "image/png": "[encoded data removed]"
          },
          "metadata": {
            "needs_background": "light"
          }
        }
      ],
      "source": [
        "# Visualize the trained linear regression model\n",
        "# scatter the original data\n",
        "plt.scatter(X_test, y_test)   \n",
        "\n",
        "# plot prediction results\n",
        "y_pred = w1*X_test**3 + w2*X_test**2 + w3*X_test + b\n",
        "\n",
        "plt.scatter(X_test, y_pred, color='red')\n",
        "plt.show()"
      ]
    },
    {
      "cell_type": "code",
      "execution_count": null,
      "metadata": {
        "id": "tHI1_5Q6WHq9",
        "outputId": "284178fc-4665-4de8-8e76-3384ca0264df"
      },
      "outputs": [
        {
          "name": "stdout",
          "output_type": "stream",
          "text": [
            "Test Loss for LinearRegression model : 6.8398\n"
          ]
        }
      ],
      "source": [
        "y_pred = w1*X_test**3 + w2*X_test**2 + w3*X_test + b\n",
        "test_loss = np.mean((y_test - y_pred)**2)\n",
        "print('Test Loss for LinearRegression model : %.4f' % test_loss)"
      ]
    },
    {
      "cell_type": "markdown",
      "metadata": {
        "id": "I9iK_amZWHq9"
      },
      "source": [
        "## [P.3] `sklearn` 라이브러리를 통해, 최적의 다항 회귀 모델 학습\n",
        "\n",
        "---\n",
        "\n",
        "- 다항 회귀 모델 학습에 필요한 `sklearn`의 클래스를 사용 (Hint: [PolynomialFeatures](https://scikit-learn.org/stable/modules/generated/sklearn.preprocessing.PolynomialFeatures.html), [pseudo_code](https://stats.stackexchange.com/questions/58739/polynomial-regression-using-scikit-learn))\n",
        "- 주어진 데이터에 대해 학습 및 평가 진행\n",
        "- P.2와 마찬가지로 학습 손실값과 평가 데이터에 대한 손실값을 계산"
      ]
    },
    {
      "cell_type": "code",
      "execution_count": null,
      "metadata": {
        "id": "x1FBQ4oEWHq-"
      },
      "outputs": [],
      "source": [
        "from sklearn.preprocessing import PolynomialFeatures\n",
        "from sklearn.linear_model import LinearRegression"
      ]
    },
    {
      "cell_type": "code",
      "source": [
        "X_train.reshape(-1, 1)"
      ],
      "metadata": {
        "id": "20TUW41NXO3x"
      },
      "execution_count": null,
      "outputs": []
    },
    {
      "cell_type": "code",
      "execution_count": null,
      "metadata": {
        "id": "zJ-5ashtWHq-"
      },
      "outputs": [],
      "source": [
        "def gd_sklearn(X, y, degree):\n",
        "    # preprocessing\n",
        "    X_2d = X.reshape(-1, 1)\n",
        "    \n",
        "    poly = PolynomialFeatures(degree=degree)\n",
        "    X_poly = poly.fit_transform(X_2d)\n",
        "    \n",
        "    reg = LinearRegression()\n",
        "    reg.fit(X_poly, y)\n",
        "\n",
        "#     print('Trained model weights : %s' % w)\n",
        "    \n",
        "    return poly, reg"
      ]
    },
    {
      "cell_type": "code",
      "execution_count": null,
      "metadata": {
        "id": "qWqPGPhdWHq-"
      },
      "outputs": [],
      "source": [
        "degree = 3\n",
        "\n",
        "poly, reg = gd_sklearn(X_train, y_train, degree)"
      ]
    },
    {
      "cell_type": "code",
      "execution_count": null,
      "metadata": {
        "scrolled": true,
        "colab": {
          "base_uri": "https://localhost:8080/",
          "height": 265
        },
        "id": "qyZKG6o0WHq-",
        "outputId": "2053feac-60a0-417d-a2be-2da5b079ab73"
      },
      "outputs": [
        {
          "output_type": "display_data",
          "data": {
            "text/plain": [
              "<Figure size 432x288 with 1 Axes>"
            ],
            "image/png": "[encoded data removed]"
          },
          "metadata": {
            "needs_background": "light"
          }
        }
      ],
      "source": [
        "# Visualize the trained linear regression model\n",
        "# scatter the original data\n",
        "plt.scatter(X_train, y_train)   \n",
        "\n",
        "# plot prediction results\n",
        "y_pred = reg.predict(poly.fit_transform(X_train.reshape(-1, 1)))\n",
        "\n",
        "plt.scatter(X_train, y_pred, color='red')\n",
        "plt.show()"
      ]
    },
    {
      "cell_type": "code",
      "execution_count": null,
      "metadata": {
        "colab": {
          "base_uri": "https://localhost:8080/"
        },
        "id": "moLXALybWHq-",
        "outputId": "2f814d98-0747-4a2c-b240-65e69a6b1b42"
      },
      "outputs": [
        {
          "output_type": "stream",
          "name": "stdout",
          "text": [
            "Train Loss for LinearRegression model : 0.1601\n"
          ]
        }
      ],
      "source": [
        "# get train loss\n",
        "train_loss = np.mean((y_train - y_pred)**2)\n",
        "print('Train Loss for LinearRegression model : %.4f' % train_loss)"
      ]
    },
    {
      "cell_type": "code",
      "execution_count": null,
      "metadata": {
        "id": "vIAOSQi0WHq_",
        "outputId": "75cda254-a778-4fa4-fabb-d9448cd7af23"
      },
      "outputs": [
        {
          "data": {
            "image/png": "[encoded data removed]",
            "text/plain": [
              "<Figure size 432x288 with 1 Axes>"
            ]
          },
          "metadata": {
            "needs_background": "light"
          },
          "output_type": "display_data"
        }
      ],
      "source": [
        "# Visualize the trained linear regression model\n",
        "# scatter the original data\n",
        "plt.scatter(X_test, y_test)   \n",
        "\n",
        "# plot prediction results\n",
        "y_pred = reg.predict(poly.fit_transform(X_test.reshape(-1, 1)))\n",
        "\n",
        "plt.scatter(X_test, y_pred, color='red')\n",
        "plt.show()"
      ]
    },
    {
      "cell_type": "code",
      "execution_count": null,
      "metadata": {
        "colab": {
          "base_uri": "https://localhost:8080/",
          "height": 200
        },
        "id": "bTRAXgPKWHq_",
        "outputId": "4b1b57df-29fd-4292-e848-d9bcdf42f01a"
      },
      "outputs": [
        {
          "output_type": "error",
          "ename": "ValueError",
          "evalue": "ignored",
          "traceback": [
            "\u001b[0;31m---------------------------------------------------------------------------\u001b[0m",
            "\u001b[0;31mValueError\u001b[0m                                Traceback (most recent call last)",
            "\u001b[0;32m<ipython-input-36-57843b8a7a39>\u001b[0m in \u001b[0;36m<module>\u001b[0;34m\u001b[0m\n\u001b[1;32m      1\u001b[0m \u001b[0;31m# get test loss\u001b[0m\u001b[0;34m\u001b[0m\u001b[0;34m\u001b[0m\u001b[0;34m\u001b[0m\u001b[0m\n\u001b[0;32m----> 2\u001b[0;31m \u001b[0mtest_loss\u001b[0m \u001b[0;34m=\u001b[0m \u001b[0mnp\u001b[0m\u001b[0;34m.\u001b[0m\u001b[0mmean\u001b[0m\u001b[0;34m(\u001b[0m\u001b[0;34m(\u001b[0m\u001b[0my_test\u001b[0m \u001b[0;34m-\u001b[0m \u001b[0my_pred\u001b[0m\u001b[0;34m)\u001b[0m\u001b[0;34m**\u001b[0m\u001b[0;36m2\u001b[0m\u001b[0;34m)\u001b[0m\u001b[0;34m\u001b[0m\u001b[0;34m\u001b[0m\u001b[0m\n\u001b[0m\u001b[1;32m      3\u001b[0m \u001b[0mprint\u001b[0m\u001b[0;34m(\u001b[0m\u001b[0;34m'Test Loss for LinearRegression model : %.4f'\u001b[0m \u001b[0;34m%\u001b[0m \u001b[0mtest_loss\u001b[0m\u001b[0;34m)\u001b[0m\u001b[0;34m\u001b[0m\u001b[0;34m\u001b[0m\u001b[0m\n",
            "\u001b[0;31mValueError\u001b[0m: operands could not be broadcast together with shapes (40,) (160,) "
          ]
        }
      ],
      "source": [
        "# get test loss\n",
        "test_loss = np.mean((y_test - y_pred)**2)\n",
        "print('Test Loss for LinearRegression model : %.4f' % test_loss)"
      ]
    },
    {
      "cell_type": "markdown",
      "metadata": {
        "id": "UsO2iQXZWHq_"
      },
      "source": [
        " "
      ]
    }
  ],
  "metadata": {
    "kernelspec": {
      "display_name": "Python 3",
      "language": "python",
      "name": "python3"
    },
    "language_info": {
      "codemirror_mode": {
        "name": "ipython",
        "version": 3
      },
      "file_extension": ".py",
      "mimetype": "text/x-python",
      "name": "python",
      "nbconvert_exporter": "python",
      "pygments_lexer": "ipython3",
      "version": "3.7.9"
    },
    "colab": {
      "provenance": [],
      "include_colab_link": true
    }
  },
  "nbformat": 4,
  "nbformat_minor": 0
}