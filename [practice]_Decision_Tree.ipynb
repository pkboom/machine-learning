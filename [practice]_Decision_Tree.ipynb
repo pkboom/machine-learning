{
  "cells": [
    {
      "cell_type": "markdown",
      "metadata": {
        "id": "view-in-github",
        "colab_type": "text"
      },
      "source": [
        "<a href=\"https://colab.research.google.com/github/pkboom/metacode-machine-learning/blob/master/%5Bpractice%5D_Decision_Tree.ipynb\" target=\"_parent\"><img src=\"https://colab.research.google.com/assets/colab-badge.svg\" alt=\"Open In Colab\"/></a>"
      ]
    },
    {
      "cell_type": "markdown",
      "source": [
        "# Basic setting\n",
        "import os\n",
        "import pickle\n",
        "import numpy as np\n",
        "\n",
        "import pandas as pd\n",
        "import matplotlib.pyplot as plt\n",
        "%matplotlib inline"
      ],
      "metadata": {
        "id": "yNPTfeMkbRLM"
      }
    },
    {
      "cell_type": "code",
      "source": [
        "# Basic setting\n",
        "import os\n",
        "import pickle\n",
        "import numpy as np\n",
        "\n",
        "import pandas as pd\n",
        "import matplotlib.pyplot as plt\n",
        "%matplotlib inline\n",
        "\n"
      ],
      "metadata": {
        "id": "yJFT5lmR6M4n"
      },
      "execution_count": null,
      "outputs": []
    },
    {
      "cell_type": "markdown",
      "metadata": {
        "id": "Dsvl6txJbRLP"
      },
      "source": [
        "# Decision Tree 분류 모델"
      ]
    },
    {
      "cell_type": "markdown",
      "metadata": {
        "id": "6ptGipQebRLQ"
      },
      "source": [
        "## [P.1] 결정 트리 학습\n",
        "\n",
        "iris 붓꽃 데이터를 결정 트리로 학습해볼 것임     \n",
        "사이킷런에서 제공하는 [DecisionTreeClassifier](https://scikit-learn.org/stable/modules/generated/sklearn.tree.DecisionTreeClassifier.html)를 이용해 모델 선언"
      ]
    },
    {
      "cell_type": "code",
      "execution_count": null,
      "metadata": {
        "id": "vhklCM_LbRLR"
      },
      "outputs": [],
      "source": [
        "from sklearn.datasets import load_iris\n",
        "\n",
        "iris = load_iris()\n",
        "\n",
        "X = iris.data[:, 2:] # petal length and width\n",
        "y = iris.target"
      ]
    },
    {
      "cell_type": "code",
      "execution_count": null,
      "metadata": {
        "id": "p98DbXpTbRLR"
      },
      "outputs": [],
      "source": [
        "def plot_dataset(X, y, show=True):\n",
        "    plt.plot(X[:, 0][y==0], X[:, 1][y==0], 's')\n",
        "    plt.plot(X[:, 0][y==1], X[:, 1][y==1], '^')\n",
        "    plt.plot(X[:, 0][y==2], X[:, 1][y==2], 'o')\n",
        "    \n",
        "    if show:\n",
        "        plt.show()"
      ]
    },
    {
      "cell_type": "code",
      "execution_count": null,
      "metadata": {
        "id": "83P-Wg4QbRLS",
        "colab": {
          "base_uri": "https://localhost:8080/",
          "height": 265
        },
        "outputId": "c6843195-3e83-42dd-9809-a9a5f939d53e"
      },
      "outputs": [
        {
          "output_type": "display_data",
          "data": {
            "text/plain": [
              "<Figure size 432x288 with 1 Axes>"
            ],
            "image/png": "[encoded data removed]"
          },
          "metadata": {
            "needs_background": "light"
          }
        }
      ],
      "source": [
        "plot_dataset(X, y)"
      ]
    },
    {
      "cell_type": "markdown",
      "metadata": {
        "id": "2S9PbkBgbRLS"
      },
      "source": [
        "결정 트리의 학습, 즉 노드를 늘려가는 작업을 멈춰주는 argument는 다음과 같음\n",
        "\n",
        "* __max_depth__: depth의 최대 크기\n",
        "* __min_samples_split__: 한 노드에 존재해야되는 최소의 샘플 수로, 이 수보다 적게 존재하면 결정 트리의 split을 멈춤\n",
        "* __min_samples_leaf__: leaf 노드가 되기 위해서 필요한 최소의 샘플 수\n",
        "* __max_leaf_nodes__: leaf 노드의 최대수 설정"
      ]
    },
    {
      "cell_type": "code",
      "execution_count": null,
      "metadata": {
        "id": "GzRTcmgkbRLS",
        "colab": {
          "base_uri": "https://localhost:8080/"
        },
        "outputId": "daa7461b-11dd-47e1-c247-76d57354006c"
      },
      "outputs": [
        {
          "output_type": "execute_result",
          "data": {
            "text/plain": [
              "DecisionTreeClassifier(max_depth=3)"
            ]
          },
          "metadata": {},
          "execution_count": 5
        }
      ],
      "source": [
        "from sklearn.tree import DecisionTreeClassifier\n",
        "\n",
        "tree_clf = DecisionTreeClassifier(max_depth=3)\n",
        "tree_clf.fit(X, y)"
      ]
    },
    {
      "cell_type": "code",
      "execution_count": null,
      "metadata": {
        "id": "7woaENhUbRLT"
      },
      "outputs": [],
      "source": [
        "def plot_decision_boundary(clf, axes=None):\n",
        "    if axes is None:\n",
        "        x0 = np.linspace(0, 8, 100)\n",
        "        x1 = np.linspace(0, 3, 100)\n",
        "    else:\n",
        "        x0 = np.linspace(axes[0][0], axes[0][1], 100)\n",
        "        x1 = np.linspace(axes[1][0], axes[1][1], 100)\n",
        "        \n",
        "    \n",
        "    x0, x1 = np.meshgrid(x0, x1)\n",
        "    X_new = np.c_(x0.ravel(), x1.ravel())\n",
        "    \n",
        "    y_pred = clf.predict(X_new).reshape(x0.shape)\n",
        "    \n",
        "    plt.contourf(x0, x1, y_pred, alpha=0.25)\n",
        "    plt.show()"
      ]
    },
    {
      "cell_type": "code",
      "execution_count": null,
      "metadata": {
        "scrolled": false,
        "id": "pg63nYe0bRLT",
        "colab": {
          "base_uri": "https://localhost:8080/",
          "height": 613
        },
        "outputId": "c77d53c3-8c4e-4597-dd78-fe5d223a3e32"
      },
      "outputs": [
        {
          "output_type": "error",
          "ename": "TypeError",
          "evalue": "ignored",
          "traceback": [
            "\u001b[0;31m---------------------------------------------------------------------------\u001b[0m",
            "\u001b[0;31mTypeError\u001b[0m                                 Traceback (most recent call last)",
            "\u001b[0;32m<ipython-input-7-dacdd58ffbea>\u001b[0m in \u001b[0;36m<module>\u001b[0;34m\u001b[0m\n\u001b[1;32m      2\u001b[0m \u001b[0;34m\u001b[0m\u001b[0m\n\u001b[1;32m      3\u001b[0m \u001b[0mplot_dataset\u001b[0m\u001b[0;34m(\u001b[0m\u001b[0mX\u001b[0m\u001b[0;34m,\u001b[0m \u001b[0my\u001b[0m\u001b[0;34m,\u001b[0m \u001b[0;32mFalse\u001b[0m\u001b[0;34m)\u001b[0m\u001b[0;34m\u001b[0m\u001b[0;34m\u001b[0m\u001b[0m\n\u001b[0;32m----> 4\u001b[0;31m \u001b[0mplot_decision_boundary\u001b[0m\u001b[0;34m(\u001b[0m\u001b[0mtree_clf\u001b[0m\u001b[0;34m)\u001b[0m\u001b[0;34m\u001b[0m\u001b[0;34m\u001b[0m\u001b[0m\n\u001b[0m\u001b[1;32m      5\u001b[0m \u001b[0;34m\u001b[0m\u001b[0m\n\u001b[1;32m      6\u001b[0m \u001b[0mplt\u001b[0m\u001b[0;34m.\u001b[0m\u001b[0mshow\u001b[0m\u001b[0;34m(\u001b[0m\u001b[0;34m)\u001b[0m\u001b[0;34m\u001b[0m\u001b[0;34m\u001b[0m\u001b[0m\n",
            "\u001b[0;32m<ipython-input-6-5f0c5466d50f>\u001b[0m in \u001b[0;36mplot_decision_boundary\u001b[0;34m(clf, axes)\u001b[0m\n\u001b[1;32m      9\u001b[0m \u001b[0;34m\u001b[0m\u001b[0m\n\u001b[1;32m     10\u001b[0m     \u001b[0mx0\u001b[0m\u001b[0;34m,\u001b[0m \u001b[0mx1\u001b[0m \u001b[0;34m=\u001b[0m \u001b[0mnp\u001b[0m\u001b[0;34m.\u001b[0m\u001b[0mmeshgrid\u001b[0m\u001b[0;34m(\u001b[0m\u001b[0mx0\u001b[0m\u001b[0;34m,\u001b[0m \u001b[0mx1\u001b[0m\u001b[0;34m)\u001b[0m\u001b[0;34m\u001b[0m\u001b[0;34m\u001b[0m\u001b[0m\n\u001b[0;32m---> 11\u001b[0;31m     \u001b[0mX_new\u001b[0m \u001b[0;34m=\u001b[0m \u001b[0mnp\u001b[0m\u001b[0;34m.\u001b[0m\u001b[0mc_\u001b[0m\u001b[0;34m(\u001b[0m\u001b[0mx0\u001b[0m\u001b[0;34m.\u001b[0m\u001b[0mravel\u001b[0m\u001b[0;34m(\u001b[0m\u001b[0;34m)\u001b[0m\u001b[0;34m,\u001b[0m \u001b[0mx1\u001b[0m\u001b[0;34m.\u001b[0m\u001b[0mravel\u001b[0m\u001b[0;34m(\u001b[0m\u001b[0;34m)\u001b[0m\u001b[0;34m)\u001b[0m\u001b[0;34m\u001b[0m\u001b[0;34m\u001b[0m\u001b[0m\n\u001b[0m\u001b[1;32m     12\u001b[0m \u001b[0;34m\u001b[0m\u001b[0m\n\u001b[1;32m     13\u001b[0m     \u001b[0my_pred\u001b[0m \u001b[0;34m=\u001b[0m \u001b[0mclf\u001b[0m\u001b[0;34m.\u001b[0m\u001b[0mpredict\u001b[0m\u001b[0;34m(\u001b[0m\u001b[0mX_new\u001b[0m\u001b[0;34m)\u001b[0m\u001b[0;34m.\u001b[0m\u001b[0mreshape\u001b[0m\u001b[0;34m(\u001b[0m\u001b[0mx0\u001b[0m\u001b[0;34m.\u001b[0m\u001b[0mshape\u001b[0m\u001b[0;34m)\u001b[0m\u001b[0;34m\u001b[0m\u001b[0;34m\u001b[0m\u001b[0m\n",
            "\u001b[0;31mTypeError\u001b[0m: 'CClass' object is not callable"
          ]
        },
        {
          "output_type": "display_data",
          "data": {
            "text/plain": [
              "<Figure size 432x288 with 1 Axes>"
            ],
            "image/png": "[encoded data removed]"
          },
          "metadata": {
            "needs_background": "light"
          }
        }
      ],
      "source": [
        "plt.figure(figsize=(6, 4))\n",
        "\n",
        "plot_dataset(X, y, False)\n",
        "plot_decision_boundary(tree_clf)\n",
        "\n",
        "plt.show()"
      ]
    },
    {
      "cell_type": "markdown",
      "metadata": {
        "id": "7KtmfqnmbRLT"
      },
      "source": [
        "depth는 결정 트리의 split 수를 결정해주는 요소임    \n",
        "따라서 `max_depth=3`으로 설정했을 때, 위의 그림처럼 세개의 선이 융합되어 결정 경계가 생성됨"
      ]
    },
    {
      "cell_type": "markdown",
      "metadata": {
        "id": "arKMzFMfbRLU"
      },
      "source": [
        "## [P.2] 결정 트리 정확도 계산\n",
        "\n",
        "데이터에 대한 성능은 [`accuracy_score`](https://scikit-learn.org/stable/modules/generated/sklearn.metrics.accuracy_score.html)를 통해 계산이 가능함     \n",
        "`y_pred`의 argument는 결정 트리 클래스의 `predict` 함수를 통해 예측 확률이 가장 높은 클래스를 얻으면 됨     "
      ]
    },
    {
      "cell_type": "code",
      "execution_count": null,
      "metadata": {
        "id": "esFHUFIubRLU"
      },
      "outputs": [],
      "source": [
        "from sklearn.model_selection import train_test_split\n",
        "\n",
        "X_train, X_test, y_train, y_test = train_test_split(X, y, test_size=0.2)"
      ]
    },
    {
      "cell_type": "code",
      "execution_count": null,
      "metadata": {
        "id": "xQPvJ0fybRLU"
      },
      "outputs": [],
      "source": [
        "tree_clf = DecisionTreeClassifier(max_depth=3, random_state=42)\n",
        "tree_clf.fit(X_train, y_train)\n",
        "\n",
        "y_pred = tree_clf.predict(X_test)"
      ]
    },
    {
      "cell_type": "code",
      "execution_count": null,
      "metadata": {
        "id": "4An973xfbRLU"
      },
      "outputs": [],
      "source": [
        "y_pred"
      ]
    },
    {
      "cell_type": "code",
      "execution_count": null,
      "metadata": {
        "id": "UYjhgg4rbRLU"
      },
      "outputs": [],
      "source": [
        "from sklearn.metrics import accuracy_score\n",
        "\n",
        "accuracy_score(y_test, y_pred)"
      ]
    },
    {
      "cell_type": "markdown",
      "metadata": {
        "id": "D7pQFpn-bRLU"
      },
      "source": [
        "각 샘플에 대한 클래스 확률을 보려면, `DecisionTreeClassifier` 클래스의 `predict_proba` 메서드 사용하면 됨"
      ]
    },
    {
      "cell_type": "code",
      "execution_count": null,
      "metadata": {
        "id": "CN29LmsvbRLU"
      },
      "outputs": [],
      "source": [
        "index = 0\n",
        "tree_clf.predict_proba(X_test[index].reshape(-1, 2))"
      ]
    },
    {
      "cell_type": "code",
      "execution_count": null,
      "metadata": {
        "id": "B8ZyTirRbRLV"
      },
      "outputs": [],
      "source": [
        "plt.figure(figsize=(6, 4))\n",
        "\n",
        "plot_dataset(X_test, y_test, False)\n",
        "plot_decision_boundary(tree_clf)\n",
        "\n",
        "plt.show()"
      ]
    },
    {
      "cell_type": "markdown",
      "metadata": {
        "id": "fuz309i7bRLV"
      },
      "source": [
        "## [P.3] 결정 트리의 하이퍼파라미터 조절\n",
        "\n",
        "`max_depth` argument를 조절해가며, 결정 트리가 데이터셋을 어떻게 학습하는지 분석"
      ]
    },
    {
      "cell_type": "code",
      "execution_count": null,
      "metadata": {
        "id": "MJY-stzBbRLV"
      },
      "outputs": [],
      "source": [
        "from sklearn.datasets import make_moons\n",
        "X, y = make_moons(n_samples=1000, noise=0.5, random_state=53)"
      ]
    },
    {
      "cell_type": "code",
      "execution_count": null,
      "metadata": {
        "id": "ZSubiT78bRLV"
      },
      "outputs": [],
      "source": [
        "from sklearn.model_selection import train_test_split\n",
        "\n",
        "X_train, X_test, y_train, y_test = train_test_split(X, y, test_size=0.2)"
      ]
    },
    {
      "cell_type": "code",
      "execution_count": null,
      "metadata": {
        "id": "68fh0QmYbRLV"
      },
      "outputs": [],
      "source": [
        "tree_clf = DecisionTreeClassifier(max_depth=100, random_state=42)\n",
        "tree_clf.fit(X_train, y_train)\n",
        "\n",
        "y_pred = tree_clf.predict(X_test)\n",
        "???"
      ]
    },
    {
      "cell_type": "code",
      "execution_count": null,
      "metadata": {
        "id": "rVY2yAnnbRLV"
      },
      "outputs": [],
      "source": [
        "plt.figure(figsize=(6, 4))\n",
        "\n",
        "plot_dataset(X_train, y_train, False)\n",
        "plot_decision_boundary(tree_clf, axes=[[-2.5,4], [-2, 2.5]])\n",
        "\n",
        "plt.show()"
      ]
    },
    {
      "cell_type": "markdown",
      "metadata": {
        "id": "s8IfM80CbRLV"
      },
      "source": [
        "split의 수가 너무 많으면, 학습 데이터셋에 오버피팅 되는 경향이 생기고 결국 평가 데이터셋에 대한 성능은 하락함     \n",
        "하지만, iris나 moons는 간단한 데이터이기 때문에 오히려 학습 데이터셋에 오버피팅 됐을 때 더 좋은 성능을 보여주기도 함"
      ]
    }
  ],
  "metadata": {
    "kernelspec": {
      "display_name": "Python 3",
      "language": "python",
      "name": "python3"
    },
    "language_info": {
      "codemirror_mode": {
        "name": "ipython",
        "version": 3
      },
      "file_extension": ".py",
      "mimetype": "text/x-python",
      "name": "python",
      "nbconvert_exporter": "python",
      "pygments_lexer": "ipython3",
      "version": "3.7.9"
    },
    "nav_menu": {
      "height": "309px",
      "width": "468px"
    },
    "toc": {
      "navigate_menu": true,
      "number_sections": true,
      "sideBar": true,
      "threshold": 6,
      "toc_cell": false,
      "toc_section_display": "block",
      "toc_window_display": false
    },
    "colab": {
      "provenance": [],
      "include_colab_link": true
    }
  },
  "nbformat": 4,
  "nbformat_minor": 0
}