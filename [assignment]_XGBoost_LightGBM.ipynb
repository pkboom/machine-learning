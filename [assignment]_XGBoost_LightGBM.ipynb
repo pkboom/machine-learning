{
  "cells": [
    {
      "cell_type": "markdown",
      "metadata": {
        "id": "view-in-github",
        "colab_type": "text"
      },
      "source": [
        "<a href=\"https://colab.research.google.com/github/pkboom/metacode-machine-learning/blob/master/%5Bassignment%5D_XGBoost_LightGBM.ipynb\" target=\"_parent\"><img src=\"https://colab.research.google.com/assets/colab-badge.svg\" alt=\"Open In Colab\"/></a>"
      ]
    },
    {
      "cell_type": "code",
      "execution_count": null,
      "metadata": {
        "id": "vSlJryh6ZuN_"
      },
      "outputs": [],
      "source": [
        "# Basic setting\n",
        "import pickle\n",
        "import numpy as np\n",
        "\n",
        "import pandas as pd\n",
        "import matplotlib.pyplot as plt\n",
        "%matplotlib inline"
      ]
    },
    {
      "cell_type": "markdown",
      "metadata": {
        "id": "3JXsvQHuZuOA"
      },
      "source": [
        "# Ensemble 모델"
      ]
    },
    {
      "cell_type": "markdown",
      "metadata": {
        "id": "HRPFlqn-ZuOB"
      },
      "source": [
        "## [P.1] Gradient Boosting 모델\n",
        "\n",
        "Gradient Boosting 알고리즘을 [`GradientBoostingClassifier`](https://scikit-learn.org/stable/modules/generated/sklearn.ensemble.GradientBoostingClassifier.html)를 통해 구현하고, `make_moons` 데이터셋에 대한 학습 결과 정리하기"
      ]
    },
    {
      "cell_type": "code",
      "execution_count": null,
      "metadata": {
        "colab": {
          "base_uri": "https://localhost:8080/"
        },
        "id": "1f3bQ7UbZuOB",
        "outputId": "fb2a8b36-ace4-4a67-9966-4ccae9df91d8"
      },
      "outputs": [
        {
          "output_type": "stream",
          "name": "stdout",
          "text": [
            "Score: 0.86\n",
            "Acc: 0.86\n"
          ]
        }
      ],
      "source": [
        "from sklearn.ensemble import GradientBoostingClassifier\n",
        "\n",
        "from sklearn.model_selection import train_test_split  # divide train and test\n",
        "from sklearn.datasets import make_moons # moons dataset\n",
        "\n",
        "X, y = make_moons(n_samples=1000, noise=0.4) # add noise\n",
        "X_train, X_test, y_train, y_test = train_test_split(X, y, test_size=0.2, random_state=42)\n",
        "\n",
        "gb_clf = GradientBoostingClassifier(n_estimators=100, learning_rate=1.0,\n",
        "    max_depth=1, random_state=0).fit(X_train, y_train)\n",
        "\n",
        "y_pred = gb_clf.predict(X_test)\n",
        "\n",
        "score = gb_clf.score(X_test, y_test)\n",
        "print('Score: %s' % (score))\n",
        "\n",
        "from sklearn.metrics import accuracy_score\n",
        "\n",
        "acc = accuracy_score(y_test, y_pred)\n",
        "\n",
        "print('Acc: %s' % (acc))"
      ]
    },
    {
      "cell_type": "code",
      "execution_count": null,
      "metadata": {
        "id": "xrndIprIZuOB"
      },
      "outputs": [],
      "source": [
        "def plot_dataset(X, y, show=True):\n",
        "    plt.plot(X[:, 0][y==0], X[:, 1][y==0], \"s\")\n",
        "    plt.plot(X[:, 0][y==1], X[:, 1][y==1], \"^\")\n",
        "    # plt.plot(X[:, 0][y==2], X[:, 1][y==2], \"o\")\n",
        "    \n",
        "    if show:\n",
        "        plt.show()"
      ]
    },
    {
      "cell_type": "code",
      "execution_count": null,
      "metadata": {
        "id": "jvT2sxviZuOC"
      },
      "outputs": [],
      "source": [
        "def plot_decision_boundary(clf, axes=None):\n",
        "    if axes is None:\n",
        "        x0 = np.linspace(-3, 4, 100)\n",
        "        x1 = np.linspace(-3, 4, 100)\n",
        "    else:\n",
        "        x0 = np.linspace(axes[0][0], axes[0][1], 100)\n",
        "        x1 = np.linspace(axes[1][0], axes[1][1], 100)\n",
        "        \n",
        "    \n",
        "    x0, x1 = np.meshgrid(x0, x1)\n",
        "    X_new = np.c_[x0.ravel(), x1.ravel()]\n",
        "    \n",
        "    y_pred = clf.predict(X_new).reshape(x0.shape)\n",
        "    \n",
        "    plt.contourf(x0, x1, y_pred, alpha=0.25)\n",
        "    plt.show()"
      ]
    },
    {
      "cell_type": "code",
      "execution_count": null,
      "metadata": {
        "colab": {
          "base_uri": "https://localhost:8080/"
        },
        "id": "exgOfhnBZuOC",
        "outputId": "90eaab5f-95cb-4fd3-ee3a-94b83e01ea3e"
      },
      "outputs": [
        {
          "output_type": "display_data",
          "data": {
            "text/plain": [
              "<Figure size 432x288 with 1 Axes>"
            ],
            "image/png": "[encoded data removed]"
          },
          "metadata": {
            "needs_background": "light"
          }
        }
      ],
      "source": [
        "plt.figure(figsize=(6, 4))\n",
        "\n",
        "plot_dataset(X, y, False)\n",
        "plot_decision_boundary(gb_clf)\n",
        "\n",
        "plt.show()"
      ]
    },
    {
      "cell_type": "markdown",
      "metadata": {
        "id": "_QDxUjjpZuOC"
      },
      "source": [
        "## [P.2] XGBoost 모델\n",
        "\n",
        "XGBoost는 사이킷런 기반이긴 하지만, 패키지 자체를 따로 제공하기 때문에 클래스를 불러오는 곳이 다름    \n",
        "[`XGBClassifier`](https://xgboost.readthedocs.io/en/latest/python/python_api.html#module-xgboost.sklearn)를 이용해보고 argument를 다양하게 바꿔가며 성능 비교해보기"
      ]
    },
    {
      "cell_type": "code",
      "execution_count": null,
      "metadata": {
        "colab": {
          "base_uri": "https://localhost:8080/"
        },
        "id": "tvTaD0aqZuOC",
        "outputId": "ea5c3f38-1a9a-45f1-f705-a5e97dfc5c86"
      },
      "outputs": [
        {
          "output_type": "stream",
          "name": "stdout",
          "text": [
            "Looking in indexes: https://pypi.org/simple, https://us-python.pkg.dev/colab-wheels/public/simple/\n",
            "Requirement already satisfied: xgboost in /usr/local/lib/python3.8/dist-packages (0.90)\n",
            "Requirement already satisfied: scipy in /usr/local/lib/python3.8/dist-packages (from xgboost) (1.7.3)\n",
            "Requirement already satisfied: numpy in /usr/local/lib/python3.8/dist-packages (from xgboost) (1.21.6)\n"
          ]
        }
      ],
      "source": [
        "!pip install xgboost"
      ]
    },
    {
      "cell_type": "code",
      "execution_count": null,
      "metadata": {
        "colab": {
          "base_uri": "https://localhost:8080/"
        },
        "id": "QzI7ofcRZuOC",
        "outputId": "4d62abcb-e77b-471f-830c-5e042328c0af"
      },
      "outputs": [
        {
          "output_type": "stream",
          "name": "stdout",
          "text": [
            "0.9666666666666667\n",
            "0.9666666666666667\n",
            "[0.23066032 0.7693397 ]\n"
          ]
        }
      ],
      "source": [
        "from xgboost import XGBClassifier\n",
        "from sklearn.datasets import load_iris\n",
        "\n",
        "data = load_iris()\n",
        "X_train, X_test, y_train, y_test = train_test_split(data['data'], data['target'], test_size=.2)\n",
        "\n",
        "X_train = X_train[:, 2:]\n",
        "X_test = X_test[:, 2:]\n",
        "\n",
        "xgb_clf = XGBClassifier(n_estimators=2, max_depth=2, learning_rate=1, objective='binary:logistic')\n",
        "xgb_clf.fit(X_train, y_train)\n",
        "# make predictions\n",
        "y_pred = xgb_clf.predict(X_test)\n",
        "\n",
        "print(xgb_clf.score(X_test, y_test))\n",
        "\n",
        "from sklearn.metrics import accuracy_score\n",
        "\n",
        "print(accuracy_score(y_pred, y_test))\n",
        "print(xgb_clf.feature_importances_)"
      ]
    },
    {
      "cell_type": "code",
      "execution_count": null,
      "metadata": {
        "scrolled": true,
        "colab": {
          "base_uri": "https://localhost:8080/"
        },
        "id": "g4LPQLFHZuOD",
        "outputId": "1c086599-b872-400b-89f3-9e707fd89a2d"
      },
      "outputs": [
        {
          "output_type": "display_data",
          "data": {
            "text/plain": [
              "<Figure size 432x288 with 1 Axes>"
            ],
            "image/png": "[encoded data removed]"
          },
          "metadata": {
            "needs_background": "light"
          }
        }
      ],
      "source": [
        "plt.figure(figsize=(6, 4))\n",
        "\n",
        "plot_dataset(X_train, y_train, False)\n",
        "# plot_dataset(X_test, y_test, False)\n",
        "plot_decision_boundary(xgb_clf, [[-3, 7], [-3, 4]])\n",
        "\n",
        "plt.show()"
      ]
    },
    {
      "cell_type": "code",
      "source": [
        "dict.keys(data)\n",
        "data.feature_names[2:], xgb_clf.feature_importances_\n",
        "for name, importance in zip(data.feature_names[2:], xgb_clf.feature_importances_):\n",
        "  print('importance of %s is %s' % (name, importance))"
      ],
      "metadata": {
        "colab": {
          "base_uri": "https://localhost:8080/"
        },
        "id": "OOXCtUfcmk69",
        "outputId": "0e58ea07-91d0-4ab1-ff36-eb944e6d1db3"
      },
      "execution_count": null,
      "outputs": [
        {
          "output_type": "stream",
          "name": "stdout",
          "text": [
            "importance of petal length (cm) is 0.23066032\n",
            "importance of petal width (cm) is 0.7693397\n"
          ]
        }
      ]
    },
    {
      "cell_type": "markdown",
      "metadata": {
        "id": "NnGepif9ZuOD"
      },
      "source": [
        "Bagging tree의 장점은 각 피처들의 중요도를 계산해, 모델에 대한 설명가능성을 키워줄 수 있음    \n",
        "이는 `feature_importances_` 메써드를 활용하면 쉽게 알 수 있음"
      ]
    },
    {
      "cell_type": "markdown",
      "metadata": {
        "id": "IpHC2A7nZuOD"
      },
      "source": [
        "## [P.3] LightGBM 모델\n",
        "\n",
        "이번에는 또다른 Boosting 알고리즘인 [`LGBMClassifier`](https://lightgbm.readthedocs.io/en/latest/pythonapi/lightgbm.LGBMClassifier.html)를 활용해서 모델을 구현해보기    "
      ]
    },
    {
      "cell_type": "code",
      "execution_count": null,
      "metadata": {
        "id": "PdXzEhGrZuOD",
        "colab": {
          "base_uri": "https://localhost:8080/"
        },
        "outputId": "8fdb7936-9efd-47c0-c724-624cde211328"
      },
      "outputs": [
        {
          "output_type": "stream",
          "name": "stdout",
          "text": [
            "Looking in indexes: https://pypi.org/simple, https://us-python.pkg.dev/colab-wheels/public/simple/\n",
            "Requirement already satisfied: lightgbm in /usr/local/lib/python3.8/dist-packages (2.2.3)\n",
            "Requirement already satisfied: scipy in /usr/local/lib/python3.8/dist-packages (from lightgbm) (1.7.3)\n",
            "Requirement already satisfied: scikit-learn in /usr/local/lib/python3.8/dist-packages (from lightgbm) (1.0.2)\n",
            "Requirement already satisfied: numpy in /usr/local/lib/python3.8/dist-packages (from lightgbm) (1.21.6)\n",
            "Requirement already satisfied: joblib>=0.11 in /usr/local/lib/python3.8/dist-packages (from scikit-learn->lightgbm) (1.2.0)\n",
            "Requirement already satisfied: threadpoolctl>=2.0.0 in /usr/local/lib/python3.8/dist-packages (from scikit-learn->lightgbm) (3.1.0)\n"
          ]
        }
      ],
      "source": [
        "!pip install lightgbm"
      ]
    },
    {
      "cell_type": "code",
      "execution_count": null,
      "metadata": {
        "id": "t2E8ygqLZuOD",
        "colab": {
          "base_uri": "https://localhost:8080/"
        },
        "outputId": "ff51b3be-a2a9-4444-c701-d76f6143f904"
      },
      "outputs": [
        {
          "output_type": "stream",
          "name": "stdout",
          "text": [
            "0.805\n",
            "0.805\n"
          ]
        }
      ],
      "source": [
        "from lightgbm import LGBMClassifier\n",
        "from sklearn.datasets import make_moons\n",
        "\n",
        "X, y = make_moons(n_samples=1000, noise=0.50)\n",
        "\n",
        "X_train, X_test, y_train, y_test = train_test_split(X, y, test_size=0.2, random_state=42)\n",
        "\n",
        "lgbm_clf = LGBMClassifier(num_leaves=15, max_depth=3, learning_rate=0.5)\n",
        "\n",
        "lgbm_clf.fit(X_train, y_train)\n",
        "\n",
        "y_pred = lgbm_clf.predict(X_test)\n",
        "\n",
        "print(accuracy_score(y_pred, y_test))\n",
        "\n",
        "print(lgbm_clf.score(X_test, y_test))"
      ]
    },
    {
      "cell_type": "code",
      "execution_count": null,
      "metadata": {
        "id": "g4Lcv-sfZuOD",
        "colab": {
          "base_uri": "https://localhost:8080/",
          "height": 269
        },
        "outputId": "7d6649fe-a5e0-4892-af47-8db90294efd4"
      },
      "outputs": [
        {
          "output_type": "display_data",
          "data": {
            "text/plain": [
              "<Figure size 432x288 with 1 Axes>"
            ],
            "image/png": "[encoded data removed]"
          },
          "metadata": {
            "needs_background": "light"
          }
        }
      ],
      "source": [
        "plt.figure(figsize=(6, 4))\n",
        "\n",
        "# plot_dataset(X_train, y_train, False)\n",
        "# plot_decision_boundary(lgbm_clf, [[-3, 7], [-3, 4]])\n",
        "plot_dataset(X_test, y_test, False)\n",
        "plot_decision_boundary(lgbm_clf)\n",
        "\n",
        "plt.show()"
      ]
    }
  ],
  "metadata": {
    "kernelspec": {
      "display_name": "Python 3",
      "language": "python",
      "name": "python3"
    },
    "language_info": {
      "codemirror_mode": {
        "name": "ipython",
        "version": 3
      },
      "file_extension": ".py",
      "mimetype": "text/x-python",
      "name": "python",
      "nbconvert_exporter": "python",
      "pygments_lexer": "ipython3",
      "version": "3.7.9"
    },
    "nav_menu": {
      "height": "252px",
      "width": "333px"
    },
    "toc": {
      "navigate_menu": true,
      "number_sections": true,
      "sideBar": true,
      "threshold": 6,
      "toc_cell": false,
      "toc_section_display": "block",
      "toc_window_display": false
    },
    "colab": {
      "provenance": [],
      "include_colab_link": true
    }
  },
  "nbformat": 4,
  "nbformat_minor": 0
}