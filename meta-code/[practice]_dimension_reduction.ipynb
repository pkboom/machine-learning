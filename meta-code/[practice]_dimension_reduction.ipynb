{
  "cells": [
    {
      "cell_type": "markdown",
      "metadata": {
        "id": "view-in-github",
        "colab_type": "text"
      },
      "source": [
        "<a href=\"https://colab.research.google.com/github/pkboom/metacode-machine-learning/blob/master/%5Bpractice%5D_dimension_reduction.ipynb\" target=\"_parent\"><img src=\"https://colab.research.google.com/assets/colab-badge.svg\" alt=\"Open In Colab\"/></a>"
      ]
    },
    {
      "cell_type": "code",
      "execution_count": 79,
      "metadata": {
        "id": "28qW-VIXp9v6"
      },
      "outputs": [],
      "source": [
        "# Basic setting\n",
        "import pickle\n",
        "import numpy as np\n",
        "\n",
        "import pandas as pd\n",
        "import matplotlib.pyplot as plt\n",
        "%matplotlib inline"
      ]
    },
    {
      "cell_type": "markdown",
      "metadata": {
        "id": "We7AAW9mp9v8"
      },
      "source": [
        "# 차원 축소 알고리즘\n",
        "\n",
        "[`sklearn.datasets.make_classification`](https://scikit-learn.org/stable/modules/generated/sklearn.datasets.make_classification.html) 데이터셋을 활용해 차원 축소 알고리즘들을 적용해보겠습니다.    \n",
        "다양한 알고리즘을 적용한 뒤, LogisticRegression 모델로 학습 후 평가해보세요."
      ]
    },
    {
      "cell_type": "code",
      "execution_count": 80,
      "metadata": {
        "colab": {
          "base_uri": "https://localhost:8080/"
        },
        "id": "aC2DZpXcp9v9",
        "outputId": "f3745757-48f1-419a-d6fa-c2ca81c84def"
      },
      "outputs": [
        {
          "output_type": "stream",
          "name": "stdout",
          "text": [
            "(1000, 40) (1000,)\n"
          ]
        }
      ],
      "source": [
        "from sklearn.datasets import make_classification\n",
        "from sklearn.model_selection import train_test_split\n",
        "\n",
        "X, y = make_classification(n_samples=1000, n_features=40, n_informative=2, n_redundant=38, n_classes=2, n_clusters_per_class=1)\n",
        "print(X.shape, y.shape)\n",
        "\n",
        "# split dataset\n",
        "X_train, X_test, y_train, y_test = train_test_split(X, y)"
      ]
    },
    {
      "cell_type": "markdown",
      "metadata": {
        "id": "OQ0vH8llp9v9"
      },
      "source": [
        "## [P.1] Principal Component Analysis (PCA)\n",
        "\n",
        "[`PCA`](https://scikit-learn.org/stable/modules/generated/sklearn.decomposition.PCA.html#sklearn.decomposition.PCA) 알고리즘을 적용해서 데이터를 축소해봅시다."
      ]
    },
    {
      "cell_type": "code",
      "execution_count": 81,
      "metadata": {
        "scrolled": true,
        "colab": {
          "base_uri": "https://localhost:8080/"
        },
        "id": "Xln0g388p9v9",
        "outputId": "366ed53b-46d9-43ef-be32-87ca0f9f47ec"
      },
      "outputs": [
        {
          "output_type": "execute_result",
          "data": {
            "text/plain": [
              "LogisticRegression()"
            ]
          },
          "metadata": {},
          "execution_count": 81
        }
      ],
      "source": [
        "from sklearn.linear_model import LogisticRegression\n",
        "\n",
        "lr = LogisticRegression()\n",
        "\n",
        "lr.fit(X_train, y_train)\n"
      ]
    },
    {
      "cell_type": "code",
      "execution_count": 82,
      "metadata": {
        "colab": {
          "base_uri": "https://localhost:8080/"
        },
        "id": "zncPJKnmp9v9",
        "outputId": "22a7e4f1-99f3-4127-db51-143265ed8faf"
      },
      "outputs": [
        {
          "output_type": "stream",
          "name": "stdout",
          "text": [
            "0.0\n",
            "1.0\n"
          ]
        }
      ],
      "source": [
        "y_pred = lr.predict(X_test)\n",
        "\n",
        "train_loss = np.mean((y_test - y_pred)**2)\n",
        "\n",
        "print(train_loss)\n",
        "\n",
        "from sklearn.metrics import accuracy_score\n",
        "\n",
        "print(accuracy_score(y_pred, y_test))"
      ]
    },
    {
      "cell_type": "code",
      "execution_count": 83,
      "metadata": {
        "colab": {
          "base_uri": "https://localhost:8080/"
        },
        "id": "RB7LueDip9v9",
        "outputId": "389254d8-c723-4fcb-a43d-3a5aa1c4c1d0"
      },
      "outputs": [
        {
          "output_type": "stream",
          "name": "stdout",
          "text": [
            "0.0\n",
            "1.0\n"
          ]
        }
      ],
      "source": [
        "from sklearn.linear_model import LogisticRegression\n",
        "from sklearn.pipeline import Pipeline\n",
        "from sklearn.decomposition import PCA\n",
        "\n",
        "model = Pipeline([('pcr', PCA(n_components=2)), ('lr', LogisticRegression())])\n",
        "\n",
        "model.fit(X_train, y_train)\n",
        "\n",
        "y_pred = model.predict(X_test)\n",
        "\n",
        "train_loss = np.mean((y_test - y_pred)**2)\n",
        "\n",
        "print(train_loss)\n",
        "\n",
        "from sklearn.metrics import accuracy_score\n",
        "\n",
        "print(accuracy_score(y_pred, y_test))"
      ]
    },
    {
      "cell_type": "code",
      "execution_count": 84,
      "metadata": {
        "id": "fV0qJAwRp9v-"
      },
      "outputs": [],
      "source": [
        "def plot_dataset(X, y):\n",
        "    plt.plot(X[:, 0][y==0], X[:, 1][y==0], \"s\")\n",
        "    plt.plot(X[:, 0][y==1], X[:, 1][y==1], \"^\")\n",
        "    \n",
        "    plt.show()"
      ]
    },
    {
      "cell_type": "code",
      "source": [
        "plot_dataset(X, y)\n",
        "X.shape"
      ],
      "metadata": {
        "colab": {
          "base_uri": "https://localhost:8080/",
          "height": 283
        },
        "id": "yilR7WkP0G7T",
        "outputId": "5d070aab-da4a-427c-d4f9-ce11218ac5f0"
      },
      "execution_count": 85,
      "outputs": [
        {
          "output_type": "display_data",
          "data": {
            "text/plain": [
              "<Figure size 432x288 with 1 Axes>"
            ],
            "image/png": "[encoded data removed]"
          },
          "metadata": {
            "needs_background": "light"
          }
        },
        {
          "output_type": "execute_result",
          "data": {
            "text/plain": [
              "(1000, 40)"
            ]
          },
          "metadata": {},
          "execution_count": 85
        }
      ]
    },
    {
      "cell_type": "code",
      "execution_count": 86,
      "metadata": {
        "colab": {
          "base_uri": "https://localhost:8080/",
          "height": 283
        },
        "id": "bxBjpZ-Wp9v-",
        "outputId": "108140a3-2169-4679-d81e-786a72ded95e"
      },
      "outputs": [
        {
          "output_type": "display_data",
          "data": {
            "text/plain": [
              "<Figure size 432x288 with 1 Axes>"
            ],
            "image/png": "[encoded data removed]"
          },
          "metadata": {
            "needs_background": "light"
          }
        },
        {
          "output_type": "execute_result",
          "data": {
            "text/plain": [
              "(1000, 2)"
            ]
          },
          "metadata": {},
          "execution_count": 86
        }
      ],
      "source": [
        "X_reduced = PCA(n_components=2).fit_transform(X)\n",
        "plot_dataset(X_reduced, y)\n",
        "X_reduced.shape"
      ]
    },
    {
      "cell_type": "markdown",
      "metadata": {
        "id": "HAWRdfsxp9v-"
      },
      "source": [
        "## [P.2] Linear Discriminant Analysis (LDA)\n",
        "\n",
        "LDA는 `sklearn` 패키지가 최신으로 업데이트 되면서 `sklearn.lda.LDA`의 모델 형식의 클래스에서 [`sklearn.discriminant_analysis.LinearDiscriminantAnalysis`](https://scikit-learn.org/stable/modules/generated/sklearn.discriminant_analysis.LinearDiscriminantAnalysis.html)의 차원 축소 알고리즘 형태로 변모하였습니다."
      ]
    },
    {
      "cell_type": "code",
      "execution_count": 87,
      "metadata": {
        "scrolled": true,
        "colab": {
          "base_uri": "https://localhost:8080/"
        },
        "id": "fFOP9xndp9v-",
        "outputId": "13891f3e-58d3-45ed-d541-4d96ef788c22"
      },
      "outputs": [
        {
          "output_type": "stream",
          "name": "stdout",
          "text": [
            "0.0\n",
            "1.0\n"
          ]
        }
      ],
      "source": [
        "from sklearn.discriminant_analysis import LinearDiscriminantAnalysis\n",
        "\n",
        "model = Pipeline([('lda', LinearDiscriminantAnalysis(n_components=1)), ('lr', LogisticRegression())])\n",
        "\n",
        "model.fit(X_train, y_train)\n",
        "\n",
        "y_pred = model.predict(X_test)\n",
        "\n",
        "train_loss = np.mean((y_test - y_pred)**2)\n",
        "\n",
        "print(train_loss)\n",
        "\n",
        "from sklearn.metrics import accuracy_score\n",
        "\n",
        "print(accuracy_score(y_pred, y_test))"
      ]
    },
    {
      "cell_type": "markdown",
      "metadata": {
        "id": "4KZl8fZMp9v-"
      },
      "source": [
        "## [P.3] t-Stochastic Neighbor Embedding (TSNE)\n",
        "\n",
        "[`t-SNE`](https://scikit-learn.org/stable/modules/generated/sklearn.manifold.TSNE.html)를 사용하면 좀더 잘 정제된 차원 축소 데이터를 받을 수 있습니다.     \n",
        "대신, t-SNE 알고리즘은 속도가 매운 느린 단점이 있으며, 축소할 수 있는 차원의 개수는 4개 이하로 정해져 있습니다."
      ]
    },
    {
      "cell_type": "code",
      "execution_count": 88,
      "metadata": {
        "colab": {
          "base_uri": "https://localhost:8080/"
        },
        "id": "eSUzJj6ap9v-",
        "outputId": "bd532294-8502-4ab3-866f-28a26a7a518a"
      },
      "outputs": [
        {
          "output_type": "stream",
          "name": "stderr",
          "text": [
            "/usr/local/lib/python3.8/dist-packages/sklearn/manifold/_t_sne.py:780: FutureWarning: The default initialization in TSNE will change from 'random' to 'pca' in 1.2.\n",
            "  warnings.warn(\n",
            "/usr/local/lib/python3.8/dist-packages/sklearn/manifold/_t_sne.py:790: FutureWarning: The default learning rate in TSNE will change from 200.0 to 'auto' in 1.2.\n",
            "  warnings.warn(\n"
          ]
        }
      ],
      "source": [
        "from sklearn.manifold import TSNE\n",
        "\n",
        "X_embedded = TSNE(n_components=2).fit_transform(X)\n",
        "\n",
        "# split dataset\n",
        "X_train, X_test, y_train, y_test = train_test_split(X_embedded, y)"
      ]
    },
    {
      "cell_type": "code",
      "execution_count": 89,
      "metadata": {
        "colab": {
          "base_uri": "https://localhost:8080/",
          "height": 265
        },
        "id": "EXCya68Wp9v_",
        "outputId": "6c546b64-17b8-43c2-f0da-2b0a85226667"
      },
      "outputs": [
        {
          "output_type": "display_data",
          "data": {
            "text/plain": [
              "<Figure size 432x288 with 1 Axes>"
            ],
            "image/png": "[encoded data removed]"
          },
          "metadata": {
            "needs_background": "light"
          }
        }
      ],
      "source": [
        "plot_dataset(X_train, y_train)"
      ]
    },
    {
      "cell_type": "code",
      "execution_count": 90,
      "metadata": {
        "colab": {
          "base_uri": "https://localhost:8080/",
          "height": 265
        },
        "id": "cn1Vijlxp9v_",
        "outputId": "396ec5f8-b315-49ca-8392-a794c7f3519e"
      },
      "outputs": [
        {
          "output_type": "display_data",
          "data": {
            "text/plain": [
              "<Figure size 432x288 with 1 Axes>"
            ],
            "image/png": "[encoded data removed]"
          },
          "metadata": {
            "needs_background": "light"
          }
        }
      ],
      "source": [
        "plot_dataset(X_test, y_test)"
      ]
    },
    {
      "cell_type": "code",
      "execution_count": 91,
      "metadata": {
        "colab": {
          "base_uri": "https://localhost:8080/"
        },
        "id": "55dpiWlbp9v_",
        "outputId": "ac885d4e-719d-43d7-b9e1-01b8d0086010"
      },
      "outputs": [
        {
          "output_type": "execute_result",
          "data": {
            "text/plain": [
              "0.996"
            ]
          },
          "metadata": {},
          "execution_count": 91
        }
      ],
      "source": [
        "model.fit(X_train, y_train)\n",
        "\n",
        "y_pred = model.predict(X_test)\n",
        "accuracy_score(y_pred, y_test)"
      ]
    },
    {
      "cell_type": "markdown",
      "metadata": {
        "id": "IEr9XrYDp9v_"
      },
      "source": [
        "## [P.4] 데이터 압축 알고리즘 (SVD)\n",
        "\n",
        "0 ~ 9 사이의 [숫자 데이터셋](https://scikit-learn.org/stable/modules/generated/sklearn.datasets.load_digits.html)을 통해, 데이터 압축 알고리즘인 SVD를 사용해보겠습니다.    \n",
        "SVD는 numpy 패키지에서 제공하는 [`np.linalg.svd`](https://numpy.org/doc/stable/reference/generated/numpy.linalg.svd.html)를 사용해보겠습니다."
      ]
    },
    {
      "cell_type": "code",
      "source": [
        "from sklearn.datasets import load_digits\n",
        "asdf = load_digits().data \n",
        "print(asdf.shape, asdf)"
      ],
      "metadata": {
        "colab": {
          "base_uri": "https://localhost:8080/"
        },
        "id": "4kTL_TQlARQC",
        "outputId": "6e5869e8-c848-4024-996a-a205a3117e3a"
      },
      "execution_count": 92,
      "outputs": [
        {
          "output_type": "stream",
          "name": "stdout",
          "text": [
            "(1797, 64) [[ 0.  0.  5. ...  0.  0.  0.]\n",
            " [ 0.  0.  0. ... 10.  0.  0.]\n",
            " [ 0.  0.  0. ... 16.  9.  0.]\n",
            " ...\n",
            " [ 0.  0.  1. ...  6.  0.  0.]\n",
            " [ 0.  0.  2. ... 12.  0.  0.]\n",
            " [ 0.  0. 10. ... 12.  1.  0.]]\n"
          ]
        }
      ]
    },
    {
      "cell_type": "code",
      "source": [
        "from sklearn.datasets import load_digits\n",
        "X, y = load_digits(return_X_y=True)\n",
        "print(X.shape, y.shape, X, y)"
      ],
      "metadata": {
        "colab": {
          "base_uri": "https://localhost:8080/"
        },
        "id": "hjhKRr8NAV9v",
        "outputId": "d04dd94e-1582-4d00-9e20-bb1457c34b21"
      },
      "execution_count": 93,
      "outputs": [
        {
          "output_type": "stream",
          "name": "stdout",
          "text": [
            "(1797, 64) (1797,) [[ 0.  0.  5. ...  0.  0.  0.]\n",
            " [ 0.  0.  0. ... 10.  0.  0.]\n",
            " [ 0.  0.  0. ... 16.  9.  0.]\n",
            " ...\n",
            " [ 0.  0.  1. ...  6.  0.  0.]\n",
            " [ 0.  0.  2. ... 12.  0.  0.]\n",
            " [ 0.  0. 10. ... 12.  1.  0.]] [0 1 2 ... 8 9 8]\n"
          ]
        }
      ]
    },
    {
      "cell_type": "code",
      "execution_count": 94,
      "metadata": {
        "id": "CFQkGu90p9v_",
        "colab": {
          "base_uri": "https://localhost:8080/"
        },
        "outputId": "70668340-7f10-4b90-cd2a-572743480d10"
      },
      "outputs": [
        {
          "output_type": "stream",
          "name": "stdout",
          "text": [
            "(1797, 64) (1797,)\n"
          ]
        }
      ],
      "source": [
        "from sklearn.datasets import load_digits\n",
        "X, y = load_digits(return_X_y=True)\n",
        "print(X.shape, y.shape)"
      ]
    },
    {
      "cell_type": "code",
      "execution_count": 95,
      "metadata": {
        "id": "B61Owv1jp9v_",
        "colab": {
          "base_uri": "https://localhost:8080/"
        },
        "outputId": "2792fe9b-027b-4e63-c483-ab2117ad22e9"
      },
      "outputs": [
        {
          "output_type": "execute_result",
          "data": {
            "text/plain": [
              "array([0, 1, 2, ..., 8, 9, 8])"
            ]
          },
          "metadata": {},
          "execution_count": 95
        }
      ],
      "source": [
        "y"
      ]
    },
    {
      "cell_type": "code",
      "execution_count": 96,
      "metadata": {
        "scrolled": true,
        "id": "vAas7CBvp9v_",
        "colab": {
          "base_uri": "https://localhost:8080/",
          "height": 436
        },
        "outputId": "3aa12953-5d07-4567-fe0a-1bac954c3850"
      },
      "outputs": [
        {
          "output_type": "stream",
          "name": "stdout",
          "text": [
            "[[ 0.  0.  5. 13.  9.  1.  0.  0.]\n",
            " [ 0.  0. 13. 15. 10. 15.  5.  0.]\n",
            " [ 0.  3. 15.  2.  0. 11.  8.  0.]\n",
            " [ 0.  4. 12.  0.  0.  8.  8.  0.]\n",
            " [ 0.  5.  8.  0.  0.  9.  8.  0.]\n",
            " [ 0.  4. 11.  0.  1. 12.  7.  0.]\n",
            " [ 0.  2. 14.  5. 10. 12.  0.  0.]\n",
            " [ 0.  0.  6. 13. 10.  0.  0.  0.]]\n"
          ]
        },
        {
          "output_type": "execute_result",
          "data": {
            "text/plain": [
              "<matplotlib.image.AxesImage at 0x7f9e1ed57d00>"
            ]
          },
          "metadata": {},
          "execution_count": 96
        },
        {
          "output_type": "display_data",
          "data": {
            "text/plain": [
              "<Figure size 288x288 with 1 Axes>"
            ],
            "image/png": "[encoded data removed]"
          },
          "metadata": {
            "needs_background": "light"
          }
        }
      ],
      "source": [
        "sample = X[0].reshape((8, 8))\n",
        "print(sample)\n",
        "plt.matshow(sample)"
      ]
    },
    {
      "cell_type": "code",
      "source": [
        "np.random.rand(4,2)"
      ],
      "metadata": {
        "colab": {
          "base_uri": "https://localhost:8080/"
        },
        "id": "PCQtjGS9BSBr",
        "outputId": "74dfee26-b462-45ab-879f-d12f852f4493"
      },
      "execution_count": 97,
      "outputs": [
        {
          "output_type": "execute_result",
          "data": {
            "text/plain": [
              "array([[0.16954638, 0.78340971],\n",
              "       [0.90060318, 0.91624015],\n",
              "       [0.08727686, 0.07451019],\n",
              "       [0.90129432, 0.70433459]])"
            ]
          },
          "metadata": {},
          "execution_count": 97
        }
      ]
    },
    {
      "cell_type": "code",
      "source": [
        "np.random.randn(9, 6)"
      ],
      "metadata": {
        "id": "EFs6w4hJBmP-"
      },
      "execution_count": null,
      "outputs": []
    },
    {
      "cell_type": "code",
      "source": [
        "a = np.random.randn(9, 6) + 1j*np.random.randn(9, 6)\n",
        "a"
      ],
      "metadata": {
        "id": "Fy2HmmunDB_a"
      },
      "execution_count": null,
      "outputs": []
    },
    {
      "cell_type": "code",
      "execution_count": 109,
      "metadata": {
        "id": "HWznKy7Vp9v_",
        "colab": {
          "base_uri": "https://localhost:8080/"
        },
        "outputId": "ed00acf2-edf8-48c5-efbe-d6221f7cdbfd"
      },
      "outputs": [
        {
          "output_type": "stream",
          "name": "stdout",
          "text": [
            "[[0.44551511 0.04498496]\n",
            " [0.94217126 0.55016507]\n",
            " [0.98745036 0.25030233]\n",
            " [0.57941806 0.19587804]]\n",
            "[1.65614214 0.2446872 ]\n"
          ]
        }
      ],
      "source": [
        "a = np.random.rand(4,2)\n",
        "U, s, V = np.linalg.svd(a)\n",
        "print(a)\n",
        "print(s)"
      ]
    },
    {
      "cell_type": "code",
      "source": [
        "x = np.arange(9).reshape((3,3))\n",
        "x\n",
        "x_diag = np.diag(x)\n",
        "x_diag"
      ],
      "metadata": {
        "colab": {
          "base_uri": "https://localhost:8080/"
        },
        "id": "7P8NLDv2IDpn",
        "outputId": "737b9bb9-3bb4-401c-9c61-9b6b4f0a6f59"
      },
      "execution_count": 101,
      "outputs": [
        {
          "output_type": "execute_result",
          "data": {
            "text/plain": [
              "array([0, 4, 8])"
            ]
          },
          "metadata": {},
          "execution_count": 101
        }
      ]
    },
    {
      "cell_type": "code",
      "execution_count": 113,
      "metadata": {
        "id": "YYXBNP_Ep9v_",
        "colab": {
          "base_uri": "https://localhost:8080/"
        },
        "outputId": "90917e7e-817a-4a8c-812a-9b2d7ae6694b"
      },
      "outputs": [
        {
          "output_type": "stream",
          "name": "stdout",
          "text": [
            "[[0. 0.]\n",
            " [0. 0.]\n",
            " [0. 0.]\n",
            " [0. 0.]]\n",
            "[[1.65614214 0.        ]\n",
            " [0.         0.2446872 ]]\n",
            "[[1.65614214 0.        ]\n",
            " [0.         0.2446872 ]\n",
            " [0.         0.        ]\n",
            " [0.         0.        ]]\n"
          ]
        },
        {
          "output_type": "execute_result",
          "data": {
            "text/plain": [
              "array([[0.44551511, 0.04498496],\n",
              "       [0.94217126, 0.55016507],\n",
              "       [0.98745036, 0.25030233],\n",
              "       [0.57941806, 0.19587804]])"
            ]
          },
          "metadata": {},
          "execution_count": 113
        }
      ],
      "source": [
        "# SVD 역으로 진행\n",
        "S = np.zeros((4, 2))\n",
        "print(S)\n",
        "print(np.diag(s))\n",
        "S[:2, :2] = np.diag(s)\n",
        "print(S)\n",
        "\n",
        "U.dot(S.dot(V))"
      ]
    },
    {
      "cell_type": "code",
      "execution_count": 114,
      "metadata": {
        "id": "63lZkfJqp9v_",
        "colab": {
          "base_uri": "https://localhost:8080/"
        },
        "outputId": "6a6c924b-3d77-45c6-dd79-b5c620f0144d"
      },
      "outputs": [
        {
          "output_type": "stream",
          "name": "stdout",
          "text": [
            "(8, 8)\n",
            "(8, 8) (8,) (8, 8)\n"
          ]
        }
      ],
      "source": [
        "# sample에 대한 SVD\n",
        "print(sample.shape)\n",
        "U, s, V = np.linalg.svd(sample)\n",
        "\n",
        "print(U.shape, s.shape, V.shape)"
      ]
    },
    {
      "cell_type": "code",
      "execution_count": 116,
      "metadata": {
        "id": "bICmQdWAp9v_",
        "colab": {
          "base_uri": "https://localhost:8080/"
        },
        "outputId": "a7a0e296-1600-4b63-e247-f5ec3f8b244c"
      },
      "outputs": [
        {
          "output_type": "stream",
          "name": "stdout",
          "text": [
            "[[0. 0. 0. 0. 0. 0. 0. 0.]\n",
            " [0. 0. 0. 0. 0. 0. 0. 0.]\n",
            " [0. 0. 0. 0. 0. 0. 0. 0.]\n",
            " [0. 0. 0. 0. 0. 0. 0. 0.]\n",
            " [0. 0. 0. 0. 0. 0. 0. 0.]\n",
            " [0. 0. 0. 0. 0. 0. 0. 0.]\n",
            " [0. 0. 0. 0. 0. 0. 0. 0.]\n",
            " [0. 0. 0. 0. 0. 0. 0. 0.]]\n",
            "[48.307845   24.95585264  8.02075326  6.02937301  3.53447932  0.61576328\n",
            "  0.          0.        ]\n",
            "[[48.307845    0.          0.          0.          0.          0.\n",
            "   0.          0.        ]\n",
            " [ 0.         24.95585264  0.          0.          0.          0.\n",
            "   0.          0.        ]\n",
            " [ 0.          0.          8.02075326  0.          0.          0.\n",
            "   0.          0.        ]\n",
            " [ 0.          0.          0.          6.02937301  0.          0.\n",
            "   0.          0.        ]\n",
            " [ 0.          0.          0.          0.          3.53447932  0.\n",
            "   0.          0.        ]\n",
            " [ 0.          0.          0.          0.          0.          0.61576328\n",
            "   0.          0.        ]\n",
            " [ 0.          0.          0.          0.          0.          0.\n",
            "   0.          0.        ]\n",
            " [ 0.          0.          0.          0.          0.          0.\n",
            "   0.          0.        ]]\n",
            "(8, 8)\n"
          ]
        }
      ],
      "source": [
        "# SVD reconstruction\n",
        "S = np.zeros((8, 8))\n",
        "print(S)\n",
        "print(s)\n",
        "S[:8, :8] = np.diag(s)\n",
        "print(S)\n",
        "\n",
        "# 압축하고 싶은 차원의 수\n",
        "dim = 4\n",
        "\n",
        "S = S[:, :dim]\n",
        "V = V[:dim, :]\n",
        "sample_svd = U.dot(S.dot(V))\n",
        "print(sample_svd.shape)"
      ]
    },
    {
      "cell_type": "code",
      "execution_count": 117,
      "metadata": {
        "id": "gB-Bf5Erp9v_",
        "colab": {
          "base_uri": "https://localhost:8080/",
          "height": 293
        },
        "outputId": "74877838-2257-4201-b408-460bb2e9c8a7"
      },
      "outputs": [
        {
          "output_type": "execute_result",
          "data": {
            "text/plain": [
              "<matplotlib.image.AxesImage at 0x7f9e1ed64130>"
            ]
          },
          "metadata": {},
          "execution_count": 117
        },
        {
          "output_type": "display_data",
          "data": {
            "text/plain": [
              "<Figure size 288x288 with 1 Axes>"
            ],
            "image/png": "[encoded data removed]"
          },
          "metadata": {
            "needs_background": "light"
          }
        }
      ],
      "source": [
        "plt.matshow(sample_svd)"
      ]
    }
  ],
  "metadata": {
    "kernelspec": {
      "display_name": "Python 3",
      "language": "python",
      "name": "python3"
    },
    "language_info": {
      "codemirror_mode": {
        "name": "ipython",
        "version": 3
      },
      "file_extension": ".py",
      "mimetype": "text/x-python",
      "name": "python",
      "nbconvert_exporter": "python",
      "pygments_lexer": "ipython3",
      "version": "3.7.9"
    },
    "colab": {
      "provenance": [],
      "include_colab_link": true
    }
  },
  "nbformat": 4,
  "nbformat_minor": 0
}