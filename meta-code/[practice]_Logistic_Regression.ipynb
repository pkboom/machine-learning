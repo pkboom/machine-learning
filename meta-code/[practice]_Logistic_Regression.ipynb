{
  "cells": [
    {
      "cell_type": "markdown",
      "metadata": {
        "id": "view-in-github",
        "colab_type": "text"
      },
      "source": [
        "<a href=\"https://colab.research.google.com/github/pkboom/metacode-machine-learning/blob/master/%5Bpractice%5D_Logistic_Regression.ipynb\" target=\"_parent\"><img src=\"https://colab.research.google.com/assets/colab-badge.svg\" alt=\"Open In Colab\"/></a>"
      ]
    },
    {
      "cell_type": "code",
      "execution_count": null,
      "metadata": {
        "id": "yptEpCerU39E"
      },
      "outputs": [],
      "source": [
        "# Basic setting\n",
        "import pickle\n",
        "import numpy as np\n",
        "import pandas as pd\n",
        "import matplotlib.pyplot as plt\n",
        "%matplotlib inline"
      ]
    },
    {
      "cell_type": "code",
      "source": [
        "from google.colab import drive\n",
        "drive.mount('/content/drive')"
      ],
      "metadata": {
        "id": "PmubYpWyM7eC"
      },
      "execution_count": null,
      "outputs": []
    },
    {
      "cell_type": "code",
      "source": [
        "%cd /content/drive/MyDrive/curinc/classification/"
      ],
      "metadata": {
        "id": "bq_Fv_fyNAPU"
      },
      "execution_count": null,
      "outputs": []
    },
    {
      "cell_type": "markdown",
      "metadata": {
        "id": "pNetGKtZU39P"
      },
      "source": [
        "# Optimization of Logistic Regression"
      ]
    },
    {
      "cell_type": "code",
      "execution_count": null,
      "metadata": {
        "scrolled": true,
        "id": "Sgg4FwV5U39T",
        "colab": {
          "base_uri": "https://localhost:8080/",
          "height": 206
        },
        "outputId": "b8f426c1-68b7-4e6f-eac4-2c14ae226e61"
      },
      "outputs": [
        {
          "output_type": "execute_result",
          "data": {
            "text/plain": [
              "    User ID  Gender  Age  EstimatedSalary  Purchased\n",
              "0  15624510    Male   19            19000          0\n",
              "1  15810944    Male   35            20000          0\n",
              "2  15668575  Female   26            43000          0\n",
              "3  15603246  Female   27            57000          0\n",
              "4  15804002    Male   19            76000          0"
            ],
            "text/html": [
              "\n",
              "  <div id=\"df-77858346-a61d-48cf-8df7-b40ef384d3be\">\n",
              "    <div class=\"colab-df-container\">\n",
              "      <div>\n",
              "<style scoped>\n",
              "    .dataframe tbody tr th:only-of-type {\n",
              "        vertical-align: middle;\n",
              "    }\n",
              "\n",
              "    .dataframe tbody tr th {\n",
              "        vertical-align: top;\n",
              "    }\n",
              "\n",
              "    .dataframe thead th {\n",
              "        text-align: right;\n",
              "    }\n",
              "</style>\n",
              "<table border=\"1\" class=\"dataframe\">\n",
              "  <thead>\n",
              "    <tr style=\"text-align: right;\">\n",
              "      <th></th>\n",
              "      <th>User ID</th>\n",
              "      <th>Gender</th>\n",
              "      <th>Age</th>\n",
              "      <th>EstimatedSalary</th>\n",
              "      <th>Purchased</th>\n",
              "    </tr>\n",
              "  </thead>\n",
              "  <tbody>\n",
              "    <tr>\n",
              "      <th>0</th>\n",
              "      <td>15624510</td>\n",
              "      <td>Male</td>\n",
              "      <td>19</td>\n",
              "      <td>19000</td>\n",
              "      <td>0</td>\n",
              "    </tr>\n",
              "    <tr>\n",
              "      <th>1</th>\n",
              "      <td>15810944</td>\n",
              "      <td>Male</td>\n",
              "      <td>35</td>\n",
              "      <td>20000</td>\n",
              "      <td>0</td>\n",
              "    </tr>\n",
              "    <tr>\n",
              "      <th>2</th>\n",
              "      <td>15668575</td>\n",
              "      <td>Female</td>\n",
              "      <td>26</td>\n",
              "      <td>43000</td>\n",
              "      <td>0</td>\n",
              "    </tr>\n",
              "    <tr>\n",
              "      <th>3</th>\n",
              "      <td>15603246</td>\n",
              "      <td>Female</td>\n",
              "      <td>27</td>\n",
              "      <td>57000</td>\n",
              "      <td>0</td>\n",
              "    </tr>\n",
              "    <tr>\n",
              "      <th>4</th>\n",
              "      <td>15804002</td>\n",
              "      <td>Male</td>\n",
              "      <td>19</td>\n",
              "      <td>76000</td>\n",
              "      <td>0</td>\n",
              "    </tr>\n",
              "  </tbody>\n",
              "</table>\n",
              "</div>\n",
              "      <button class=\"colab-df-convert\" onclick=\"convertToInteractive('df-77858346-a61d-48cf-8df7-b40ef384d3be')\"\n",
              "              title=\"Convert this dataframe to an interactive table.\"\n",
              "              style=\"display:none;\">\n",
              "        \n",
              "  <svg xmlns=\"http://www.w3.org/2000/svg\" height=\"24px\"viewBox=\"0 0 24 24\"\n",
              "       width=\"24px\">\n",
              "    <path d=\"M0 0h24v24H0V0z\" fill=\"none\"/>\n",
              "    <path d=\"M18.56 5.44l.94 2.06.94-2.06 2.06-.94-2.06-.94-.94-2.06-.94 2.06-2.06.94zm-11 1L8.5 8.5l.94-2.06 2.06-.94-2.06-.94L8.5 2.5l-.94 2.06-2.06.94zm10 10l.94 2.06.94-2.06 2.06-.94-2.06-.94-.94-2.06-.94 2.06-2.06.94z\"/><path d=\"M17.41 7.96l-1.37-1.37c-.4-.4-.92-.59-1.43-.59-.52 0-1.04.2-1.43.59L10.3 9.45l-7.72 7.72c-.78.78-.78 2.05 0 2.83L4 21.41c.39.39.9.59 1.41.59.51 0 1.02-.2 1.41-.59l7.78-7.78 2.81-2.81c.8-.78.8-2.07 0-2.86zM5.41 20L4 18.59l7.72-7.72 1.47 1.35L5.41 20z\"/>\n",
              "  </svg>\n",
              "      </button>\n",
              "      \n",
              "  <style>\n",
              "    .colab-df-container {\n",
              "      display:flex;\n",
              "      flex-wrap:wrap;\n",
              "      gap: 12px;\n",
              "    }\n",
              "\n",
              "    .colab-df-convert {\n",
              "      background-color: #E8F0FE;\n",
              "      border: none;\n",
              "      border-radius: 50%;\n",
              "      cursor: pointer;\n",
              "      display: none;\n",
              "      fill: #1967D2;\n",
              "      height: 32px;\n",
              "      padding: 0 0 0 0;\n",
              "      width: 32px;\n",
              "    }\n",
              "\n",
              "    .colab-df-convert:hover {\n",
              "      background-color: #E2EBFA;\n",
              "      box-shadow: 0px 1px 2px rgba(60, 64, 67, 0.3), 0px 1px 3px 1px rgba(60, 64, 67, 0.15);\n",
              "      fill: #174EA6;\n",
              "    }\n",
              "\n",
              "    [theme=dark] .colab-df-convert {\n",
              "      background-color: #3B4455;\n",
              "      fill: #D2E3FC;\n",
              "    }\n",
              "\n",
              "    [theme=dark] .colab-df-convert:hover {\n",
              "      background-color: #434B5C;\n",
              "      box-shadow: 0px 1px 3px 1px rgba(0, 0, 0, 0.15);\n",
              "      filter: drop-shadow(0px 1px 2px rgba(0, 0, 0, 0.3));\n",
              "      fill: #FFFFFF;\n",
              "    }\n",
              "  </style>\n",
              "\n",
              "      <script>\n",
              "        const buttonEl =\n",
              "          document.querySelector('#df-77858346-a61d-48cf-8df7-b40ef384d3be button.colab-df-convert');\n",
              "        buttonEl.style.display =\n",
              "          google.colab.kernel.accessAllowed ? 'block' : 'none';\n",
              "\n",
              "        async function convertToInteractive(key) {\n",
              "          const element = document.querySelector('#df-77858346-a61d-48cf-8df7-b40ef384d3be');\n",
              "          const dataTable =\n",
              "            await google.colab.kernel.invokeFunction('convertToInteractive',\n",
              "                                                     [key], {});\n",
              "          if (!dataTable) return;\n",
              "\n",
              "          const docLinkHtml = 'Like what you see? Visit the ' +\n",
              "            '<a target=\"_blank\" href=https://colab.research.google.com/notebooks/data_table.ipynb>data table notebook</a>'\n",
              "            + ' to learn more about interactive tables.';\n",
              "          element.innerHTML = '';\n",
              "          dataTable['output_type'] = 'display_data';\n",
              "          await google.colab.output.renderOutput(dataTable, element);\n",
              "          const docLink = document.createElement('div');\n",
              "          docLink.innerHTML = docLinkHtml;\n",
              "          element.appendChild(docLink);\n",
              "        }\n",
              "      </script>\n",
              "    </div>\n",
              "  </div>\n",
              "  "
            ]
          },
          "metadata": {},
          "execution_count": 4
        }
      ],
      "source": [
        "with open('./data/logistic_regression.pickle', 'rb') as f:\n",
        "    data = pickle.load(f)\n",
        "    \n",
        "data.head()   # show the 5 elements"
      ]
    },
    {
      "cell_type": "code",
      "source": [
        "data"
      ],
      "metadata": {
        "id": "C77BsbL7W36s"
      },
      "execution_count": null,
      "outputs": []
    },
    {
      "cell_type": "code",
      "source": [
        "print(data['Age'])"
      ],
      "metadata": {
        "id": "odcFRpNEXB_C"
      },
      "execution_count": null,
      "outputs": []
    },
    {
      "cell_type": "markdown",
      "metadata": {
        "id": "RsIUBdKpU39V"
      },
      "source": [
        "### 로지스틱 회귀 모델을 이용해 유저의 `Age` 정보만을 가지고 구매를 했는지(1), 혹은 안했는지(0)를 학습 - 전처리"
      ]
    },
    {
      "cell_type": "code",
      "source": [
        "X = data['Age'].to_numpy(dtype=np.float32)\n",
        "print(X)\n",
        "def normalize(X):\n",
        "    return X - X.mean()\n",
        "X = normalize(X)\n",
        "print(X)\n",
        "print(data['Purchased'])\n",
        "y = data['Purchased'].to_numpy()\n",
        "print(y)"
      ],
      "metadata": {
        "id": "2FJO_fWZYqXf"
      },
      "execution_count": null,
      "outputs": []
    },
    {
      "cell_type": "code",
      "execution_count": null,
      "metadata": {
        "id": "VZKr4ubHU39X",
        "colab": {
          "base_uri": "https://localhost:8080/",
          "height": 265
        },
        "outputId": "d0f39b2b-ce44-4153-80d0-22a59e4ee3d2"
      },
      "outputs": [
        {
          "output_type": "display_data",
          "data": {
            "text/plain": [
              "<Figure size 432x288 with 1 Axes>"
            ],
            "image/png": "[encoded data removed]"
          },
          "metadata": {
            "needs_background": "light"
          }
        }
      ],
      "source": [
        "# Extract 'Age' and 'Purchased' data\n",
        "X = data['Age'].to_numpy(dtype=np.float32)\n",
        "y = data['Purchased'].to_numpy()\n",
        "\n",
        "# Normalize 'Age' value\n",
        "# 전처리가 잘 안되어 있으면, 즉, 정규화가 잘 안되어 있으면 모델 학습이 잘 되는 경우가 있음.\n",
        "# 모델 학습의 성능, 용이성을 위해서 normalization 함.\n",
        "def normalize(X):\n",
        "    return X - X.mean()\n",
        "X = normalize(X)\n",
        "\n",
        "# Visualizing the dataset\n",
        "plt.scatter(X, y)\n",
        "plt.show()"
      ]
    },
    {
      "cell_type": "markdown",
      "metadata": {
        "id": "OhZKnDYJU39Y"
      },
      "source": [
        "## [P.1] 데이터를 학습과 평가 데이터로 나누기"
      ]
    },
    {
      "cell_type": "code",
      "execution_count": null,
      "metadata": {
        "id": "pWkV1YLYU39Z"
      },
      "outputs": [],
      "source": [
        "# Use sklearn library\n",
        "from sklearn.model_selection import train_test_split"
      ]
    },
    {
      "cell_type": "code",
      "execution_count": null,
      "metadata": {
        "id": "fiQpBIkPU39b"
      },
      "outputs": [],
      "source": [
        "X_train, X_test, y_train, y_test = train_test_split(X, y, test_size=0.2, random_state=42)"
      ]
    },
    {
      "cell_type": "code",
      "execution_count": null,
      "metadata": {
        "id": "858xNWRFU39d",
        "colab": {
          "base_uri": "https://localhost:8080/",
          "height": 265
        },
        "outputId": "9a5b8ed1-efbd-4cec-e4ec-ce1d1e3fd249"
      },
      "outputs": [
        {
          "output_type": "display_data",
          "data": {
            "text/plain": [
              "<Figure size 432x288 with 1 Axes>"
            ],
            "image/png": "[encoded data removed]"
          },
          "metadata": {
            "needs_background": "light"
          }
        }
      ],
      "source": [
        "# Visualizing the dataset\n",
        "plt.scatter(X_train, y_train)\n",
        "plt.show()"
      ]
    },
    {
      "cell_type": "code",
      "execution_count": null,
      "metadata": {
        "id": "r5TIcLCEU39g",
        "colab": {
          "base_uri": "https://localhost:8080/",
          "height": 265
        },
        "outputId": "3de42386-a9e8-4419-fdf2-18cb51878ea2"
      },
      "outputs": [
        {
          "output_type": "display_data",
          "data": {
            "text/plain": [
              "<Figure size 432x288 with 1 Axes>"
            ],
            "image/png": "[encoded data removed]"
          },
          "metadata": {
            "needs_background": "light"
          }
        }
      ],
      "source": [
        "# Visualizing the dataset\n",
        "plt.scatter(X_test, y_test)\n",
        "plt.show()"
      ]
    },
    {
      "cell_type": "markdown",
      "metadata": {
        "id": "khX08HolU39i"
      },
      "source": [
        "구매를 한 사람들 중에서 나이가 많은 사람들이 많다는 경향성을 쉽게 파악 가능"
      ]
    },
    {
      "cell_type": "markdown",
      "metadata": {
        "id": "GJlGaebLU39j"
      },
      "source": [
        "## [P.2] `Numpy` 패키지로만 로지스틱 회귀 모델 학습하기\n",
        "\n",
        "로지스틱 회귀 모델은 0부터 1 사이의 값을 출력해주는 S 모양의 로지스틱 함수로 만들어짐    \n",
        "따라서 출력값은 확률의 의미를 지니고 있으며, 0.5의 출력값을 기준으로 0과 1의 이진 클래스로 분류해주는 모델이 됨\n",
        "![logistic](data:image/png;base64,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)"
      ]
    },
    {
      "cell_type": "markdown",
      "metadata": {
        "id": "TQcz11RVU39m"
      },
      "source": [
        "로지스틱 모델은 최대 가능도 추정(maximum likelihood estimation)을 기반으로 모델을 학습함       \n",
        "이론 강의 시간동안 공부했던 내용이므로, 본 자료에서는 주어진 수식을 코드로 구현하는 연습만 진행\n",
        "\n",
        "**Logistic regression model** (w와 b 파라미터 두가지)\n",
        "\\begin{equation*}\n",
        "P(y_i=1|X_i) = \\frac{1}{1 + e^{-(wX_i + b)}}\n",
        "\\end{equation*}\n",
        "\n",
        "**Loss function**\n",
        "\\begin{equation*}\n",
        "-\\frac{1}{n} \\sum_{i=1}^n (y_i * log(P(y_i=1|X_i)) + (1 - y_i) * log(1 - P(y_i=1|X_i)))\n",
        "\\end{equation*}\n",
        "\n",
        "**Gradients calculation**\n",
        "\\begin{equation*}\n",
        "\\frac{\\partial L}{\\partial w} = \\frac{1}{n} \\sum_{i=1}^n ((P(y_i=1|X_i) - y_i) * X_i)\n",
        "\\end{equation*}\n",
        "\n",
        "\\begin{equation*}\n",
        "\\frac{\\partial L}{\\partial b} = \\frac{1}{n} \\sum_{i=1}^n (P(y_i=1|X_i) - y_i)\n",
        "\\end{equation*}"
      ]
    },
    {
      "cell_type": "code",
      "execution_count": null,
      "metadata": {
        "id": "sacwTPwZU39o",
        "colab": {
          "base_uri": "https://localhost:8080/"
        },
        "outputId": "46d1b850-2ef9-4558-9e5e-748774a39731"
      },
      "outputs": [
        {
          "output_type": "stream",
          "name": "stdout",
          "text": [
            "Trained model weights : 0.1696\n",
            "Trained model bias : -0.1248\n"
          ]
        }
      ],
      "source": [
        "# np.exp(2) => e**2\n",
        "# Training setting\n",
        "epochs = 1000\n",
        "learning_rate = 1e-3\n",
        "\n",
        "# Model weights and bias parameters\n",
        "w = 0.0\n",
        "b = 0.0\n",
        "\n",
        "# Perform Gradient Descent\n",
        "for i in range(epochs): \n",
        "    \n",
        "#################################################\n",
        "######## Hint: use +, -, *, /, **, np.mean(), #######\n",
        "########           np.exp(), np.log() ###########\n",
        "    y_pred = 1 / (1 + np.exp(-(w*X + b)))   # Logistic regression\n",
        "    loss = -np.mean(y * np.log(y_pred) + (1 - y) * np.log(1- y_pred))   # Likelihood loss\n",
        "    \n",
        "    dw = np.mean((y_pred - y) * X)   # gradients w.r.t to w\n",
        "    db = np.mean(y_pred - y)   # gradients w.r.t to b\n",
        "    \n",
        "    # Update model weights and bias\n",
        "    w = w - dw * learning_rate\n",
        "    b = b - db * learning_rate\n",
        "    \n",
        "#################################################\n",
        "\n",
        "\n",
        "print('Trained model weights : %.4f' % w)\n",
        "print('Trained model bias : %.4f' % b)"
      ]
    },
    {
      "cell_type": "markdown",
      "metadata": {
        "id": "1v1bJsiDU39q"
      },
      "source": [
        "학습 결과를 시각화하면 다음과 같음"
      ]
    },
    {
      "cell_type": "code",
      "source": [
        "asdf=np.array([True, True, False]) + np.array([True, False, False])\n",
        "print(asdf)\n",
        "asdf=np.array([True, True, False]) * np.array([True, False, False])\n",
        "print(asdf)\n"
      ],
      "metadata": {
        "id": "Xw-HoOmTGR7_"
      },
      "execution_count": null,
      "outputs": []
    },
    {
      "cell_type": "code",
      "execution_count": null,
      "metadata": {
        "id": "Q7bpnf3aU39r",
        "colab": {
          "base_uri": "https://localhost:8080/",
          "height": 265
        },
        "outputId": "1dbb4a0e-d0b5-448c-e777-4dfcd2cb1186"
      },
      "outputs": [
        {
          "output_type": "display_data",
          "data": {
            "text/plain": [
              "<Figure size 432x288 with 1 Axes>"
            ],
            "image/png": "[encoded data removed]"
          },
          "metadata": {
            "needs_background": "light"
          }
        }
      ],
      "source": [
        "# Visualize the trained linear regression model\n",
        "plt.scatter(X, y)   # scatter the original data\n",
        "y_pred = 1 / (1 + np.exp(-(w*X + b)))\n",
        "\n",
        "plt.scatter(X, y_pred, color='red')\n",
        "plt.axhline(y=0.5, color='orange', linestyle='--')   # show 0.5 threshold line\n",
        "\n",
        "# Accurate results are colored as orange\n",
        "index1 = (y == 0) * (y_pred < 0.5)\n",
        "index2 = (y == 1) * (y_pred > 0.5)\n",
        "index = index1 + index2\n",
        "plt.scatter(X[index], y[index], color='orange')\n",
        "\n",
        "plt.show()"
      ]
    },
    {
      "cell_type": "markdown",
      "metadata": {
        "id": "l5ofvppzU39s"
      },
      "source": [
        "## [P.3] `sklearn` 패키지를 통해서 로지스틱 회귀 모델 학습\n",
        "\n",
        "- [`LogisticRegression`](https://scikit-learn.org/stable/modules/generated/sklearn.linear_model.LogisticRegression.html) 모듈을 이용해 경사하강법을 쉽게 구현하고자 함"
      ]
    },
    {
      "cell_type": "code",
      "execution_count": null,
      "metadata": {
        "id": "e4glNfiLU39t"
      },
      "outputs": [],
      "source": [
        "from sklearn.linear_model import LogisticRegression"
      ]
    },
    {
      "cell_type": "code",
      "execution_count": null,
      "metadata": {
        "id": "rU5tg7XnU39u"
      },
      "outputs": [],
      "source": [
        "def gd_sklearn(X, y, max_iter, C):\n",
        "    X_2d = X.reshape(-1,1)\n",
        "    \n",
        "    # more penalty: stronger regularization\n",
        "    # stronger regularization: less variance\n",
        "    reg = LogisticRegression(penalty='l2', # used in regularization\n",
        "             max_iter=max_iter,\n",
        "             # inverse of regularization strength(정규화에 힘에 대해서 반대되는 영향력을 행사)\n",
        "             # if C increases, regularization weakens, vice versa.\n",
        "             C=C, \n",
        "             tol=1e-3, \n",
        "             # LogisticRegression has its own algorithms to find optimal values.\n",
        "             # Gradient Descent is not one of them.\n",
        "             solver='lbfgs',\n",
        "             random_state=42)\n",
        "    \n",
        "    reg.fit(X_2d, y)\n",
        "    \n",
        "    w = reg.coef_\n",
        "    b = reg.intercept_\n",
        "\n",
        "    print('Trained model weights : %.4f' % w)\n",
        "    print('Trained model bias : %.4f' % b)\n",
        "    \n",
        "    return reg"
      ]
    },
    {
      "cell_type": "code",
      "execution_count": null,
      "metadata": {
        "id": "OM9QLVUoU39u",
        "colab": {
          "base_uri": "https://localhost:8080/"
        },
        "outputId": "4a7e2225-f4c3-4b3f-e499-096669d9eb35"
      },
      "outputs": [
        {
          "output_type": "stream",
          "name": "stdout",
          "text": [
            "Trained model weights : 0.1704\n",
            "Trained model bias : -0.8815\n"
          ]
        }
      ],
      "source": [
        "# training setting\n",
        "epochs = 1000\n",
        "C = 0.1\n",
        "\n",
        "model = gd_sklearn(X_train, y_train, max_iter=epochs, C=C)"
      ]
    },
    {
      "cell_type": "code",
      "execution_count": null,
      "metadata": {
        "id": "svCdIg0OU39w",
        "colab": {
          "base_uri": "https://localhost:8080/"
        },
        "outputId": "c0544f92-38fe-4873-88af-94123b6e63c0"
      },
      "outputs": [
        {
          "output_type": "stream",
          "name": "stdout",
          "text": [
            "Train Loss for LinearRegression model : 0.1781\n"
          ]
        }
      ],
      "source": [
        "# get train loss\n",
        "X_train_2d = X_train.reshape(-1, 1)\n",
        "y_pred = model.predict(X_train_2d)\n",
        "\n",
        "train_loss = np.mean((y_train - y_pred)**2)\n",
        "print('Train Loss for LinearRegression model : %.4f' % train_loss)"
      ]
    },
    {
      "cell_type": "code",
      "execution_count": null,
      "metadata": {
        "id": "LxEj6miwU39x",
        "colab": {
          "base_uri": "https://localhost:8080/"
        },
        "outputId": "34f6b5a1-e909-4008-df8a-a381be738cef"
      },
      "outputs": [
        {
          "output_type": "execute_result",
          "data": {
            "text/plain": [
              "320"
            ]
          },
          "metadata": {},
          "execution_count": 50
        }
      ],
      "source": [
        "len(y_pred)"
      ]
    },
    {
      "cell_type": "code",
      "source": [
        "len(X_train)"
      ],
      "metadata": {
        "colab": {
          "base_uri": "https://localhost:8080/"
        },
        "id": "SmmPWNi_ws97",
        "outputId": "54a33262-ad92-4370-c4ec-27d3961ee78c"
      },
      "execution_count": null,
      "outputs": [
        {
          "output_type": "execute_result",
          "data": {
            "text/plain": [
              "320"
            ]
          },
          "metadata": {},
          "execution_count": 51
        }
      ]
    },
    {
      "cell_type": "code",
      "source": [
        "X_train"
      ],
      "metadata": {
        "id": "6fbgkaYLvMiu"
      },
      "execution_count": null,
      "outputs": []
    },
    {
      "cell_type": "code",
      "execution_count": null,
      "metadata": {
        "id": "JBuYWPieU39y"
      },
      "outputs": [],
      "source": [
        "w = model.coef_\n",
        "b = model.intercept_\n",
        "\n",
        "y_pred = 1 / (1 + np.exp(-(w*X_train + b)))\n",
        "y_pred = y_pred.reshape(-1)"
      ]
    },
    {
      "cell_type": "code",
      "source": [
        "X_train\n",
        "len(X_train)\n",
        "print(len(y_pred))"
      ],
      "metadata": {
        "colab": {
          "base_uri": "https://localhost:8080/"
        },
        "id": "4KzQTmORwPkF",
        "outputId": "96ec5b60-59e1-44f2-b815-7867d79b3ac1"
      },
      "execution_count": null,
      "outputs": [
        {
          "output_type": "stream",
          "name": "stdout",
          "text": [
            "400\n"
          ]
        }
      ]
    },
    {
      "cell_type": "code",
      "source": [
        "y_pred"
      ],
      "metadata": {
        "id": "FGFk6DQOwLBt"
      },
      "execution_count": null,
      "outputs": []
    },
    {
      "cell_type": "code",
      "execution_count": null,
      "metadata": {
        "id": "6SIHfm4HU39z",
        "colab": {
          "base_uri": "https://localhost:8080/",
          "height": 265
        },
        "outputId": "b7d28a80-65ef-472f-a580-5d98898da5ba"
      },
      "outputs": [
        {
          "output_type": "display_data",
          "data": {
            "text/plain": [
              "<Figure size 432x288 with 1 Axes>"
            ],
            "image/png": "[encoded data removed]"
          },
          "metadata": {
            "needs_background": "light"
          }
        }
      ],
      "source": [
        "# Visualize the trained linear regression model\n",
        "plt.scatter(X_train, y_train)   # scatter the original data\n",
        "plt.scatter(X_train, y_pred, color='red')\n",
        "plt.axhline(y=0.5, color='orange', linestyle='--')   # show 0.5 threshold line\n",
        "\n",
        "# Accurate results are colored as orange\n",
        "index1 = (y_train == 0) * (y_pred < 0.5)\n",
        "index2 = (y_train == 1) * (y_pred > 0.5)\n",
        "index = index1 + index2\n",
        "plt.scatter(X_train[index], y_train[index], color='orange')\n",
        "\n",
        "plt.show()"
      ]
    },
    {
      "cell_type": "code",
      "execution_count": null,
      "metadata": {
        "id": "o-VIUKc0U390",
        "colab": {
          "base_uri": "https://localhost:8080/"
        },
        "outputId": "6218e900-5418-4dbb-90ce-60258126a129"
      },
      "outputs": [
        {
          "output_type": "stream",
          "name": "stdout",
          "text": [
            "Train Loss for LinearRegression model : 0.0875\n"
          ]
        }
      ],
      "source": [
        "# get test loss\n",
        "X_test_2d = X_test.reshape(-1, 1)\n",
        "y_pred = model.predict(X_test_2d)\n",
        "\n",
        "test_loss = np.mean((y_test - y_pred)**2)\n",
        "print('Train Loss for LinearRegression model : %.4f' % test_loss)"
      ]
    },
    {
      "cell_type": "code",
      "execution_count": null,
      "metadata": {
        "id": "8DSazwLOU390"
      },
      "outputs": [],
      "source": [
        "w = model.coef_\n",
        "b = model.intercept_\n",
        "\n",
        "y_pred = 1 / (1 + np.exp(-(w*X_test + b)))\n",
        "y_pred = y_pred.reshape(-1)"
      ]
    },
    {
      "cell_type": "code",
      "execution_count": null,
      "metadata": {
        "id": "j2SpQZn1U391",
        "colab": {
          "base_uri": "https://localhost:8080/",
          "height": 265
        },
        "outputId": "f5db9ea3-ccae-4348-e9f9-b4274fea76c1"
      },
      "outputs": [
        {
          "output_type": "display_data",
          "data": {
            "text/plain": [
              "<Figure size 432x288 with 1 Axes>"
            ],
            "image/png": "[encoded data removed]"
          },
          "metadata": {
            "needs_background": "light"
          }
        }
      ],
      "source": [
        "# Visualize the trained linear regression model\n",
        "plt.scatter(X_test, y_test)   # scatter the original data\n",
        "plt.scatter(X_test, y_pred, color='red')\n",
        "plt.axhline(y=0.5, color='orange', linestyle='--')   # show 0.5 threshold line\n",
        "\n",
        "# Accurate results are colored as orange\n",
        "index1 = (y_test == 0) * (y_pred < 0.5)\n",
        "index2 = (y_test == 1) * (y_pred > 0.5)\n",
        "index = index1 + index2\n",
        "plt.scatter(X_test[index], y_test[index], color='orange')\n",
        "\n",
        "plt.show()"
      ]
    },
    {
      "cell_type": "code",
      "source": [
        "%git init logistic_regression"
      ],
      "metadata": {
        "id": "JmOSk8j0hkdx"
      },
      "execution_count": null,
      "outputs": []
    }
  ],
  "metadata": {
    "kernelspec": {
      "display_name": "Python 3",
      "language": "python",
      "name": "python3"
    },
    "language_info": {
      "codemirror_mode": {
        "name": "ipython",
        "version": 3
      },
      "file_extension": ".py",
      "mimetype": "text/x-python",
      "name": "python",
      "nbconvert_exporter": "python",
      "pygments_lexer": "ipython3",
      "version": "3.7.9"
    },
    "colab": {
      "provenance": [],
      "include_colab_link": true
    }
  },
  "nbformat": 4,
  "nbformat_minor": 0
}